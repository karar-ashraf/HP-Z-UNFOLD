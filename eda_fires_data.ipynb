{
 "cells": [
  {
   "cell_type": "markdown",
   "metadata": {},
   "source": [
    "# Z Unlock Challenge 1 Fires Data EDA"
   ]
  },
  {
   "cell_type": "markdown",
   "metadata": {},
   "source": [
    "## Import Required Libraries"
   ]
  },
  {
   "cell_type": "code",
   "execution_count": 1,
   "metadata": {},
   "outputs": [],
   "source": [
    "import numpy as np\n",
    "import pandas as pd\n",
    "import seaborn as sns\n",
    "import matplotlib.pyplot as plt"
   ]
  },
  {
   "cell_type": "markdown",
   "metadata": {},
   "source": [
    "## Import Fires Data Set"
   ]
  },
  {
   "cell_type": "code",
   "execution_count": 3,
   "metadata": {},
   "outputs": [
    {
     "data": {
      "text/html": [
       "<div>\n",
       "<style scoped>\n",
       "    .dataframe tbody tr th:only-of-type {\n",
       "        vertical-align: middle;\n",
       "    }\n",
       "\n",
       "    .dataframe tbody tr th {\n",
       "        vertical-align: top;\n",
       "    }\n",
       "\n",
       "    .dataframe thead th {\n",
       "        text-align: right;\n",
       "    }\n",
       "</style>\n",
       "<table border=\"1\" class=\"dataframe\">\n",
       "  <thead>\n",
       "    <tr style=\"text-align: right;\">\n",
       "      <th></th>\n",
       "      <th>Domain Code</th>\n",
       "      <th>Domain</th>\n",
       "      <th>Area Code (ISO3)</th>\n",
       "      <th>Area</th>\n",
       "      <th>Element Code</th>\n",
       "      <th>Element</th>\n",
       "      <th>Item Code</th>\n",
       "      <th>Item</th>\n",
       "      <th>Year Code</th>\n",
       "      <th>Year</th>\n",
       "      <th>Source Code</th>\n",
       "      <th>Source</th>\n",
       "      <th>Unit</th>\n",
       "      <th>Value</th>\n",
       "      <th>Flag</th>\n",
       "      <th>Flag Description</th>\n",
       "      <th>Note</th>\n",
       "    </tr>\n",
       "  </thead>\n",
       "  <tbody>\n",
       "    <tr>\n",
       "      <th>0</th>\n",
       "      <td>GI</td>\n",
       "      <td>Fires</td>\n",
       "      <td>AFG</td>\n",
       "      <td>Afghanistan</td>\n",
       "      <td>7246</td>\n",
       "      <td>Burned Area</td>\n",
       "      <td>6796</td>\n",
       "      <td>Humid tropical forest</td>\n",
       "      <td>1990</td>\n",
       "      <td>1990</td>\n",
       "      <td>3050</td>\n",
       "      <td>FAO TIER 1</td>\n",
       "      <td>ha</td>\n",
       "      <td>0.0</td>\n",
       "      <td>Fc</td>\n",
       "      <td>Calculated data</td>\n",
       "      <td>NaN</td>\n",
       "    </tr>\n",
       "    <tr>\n",
       "      <th>1</th>\n",
       "      <td>GI</td>\n",
       "      <td>Fires</td>\n",
       "      <td>AFG</td>\n",
       "      <td>Afghanistan</td>\n",
       "      <td>7246</td>\n",
       "      <td>Burned Area</td>\n",
       "      <td>6796</td>\n",
       "      <td>Humid tropical forest</td>\n",
       "      <td>1991</td>\n",
       "      <td>1991</td>\n",
       "      <td>3050</td>\n",
       "      <td>FAO TIER 1</td>\n",
       "      <td>ha</td>\n",
       "      <td>0.0</td>\n",
       "      <td>Fc</td>\n",
       "      <td>Calculated data</td>\n",
       "      <td>NaN</td>\n",
       "    </tr>\n",
       "    <tr>\n",
       "      <th>2</th>\n",
       "      <td>GI</td>\n",
       "      <td>Fires</td>\n",
       "      <td>AFG</td>\n",
       "      <td>Afghanistan</td>\n",
       "      <td>7246</td>\n",
       "      <td>Burned Area</td>\n",
       "      <td>6796</td>\n",
       "      <td>Humid tropical forest</td>\n",
       "      <td>1992</td>\n",
       "      <td>1992</td>\n",
       "      <td>3050</td>\n",
       "      <td>FAO TIER 1</td>\n",
       "      <td>ha</td>\n",
       "      <td>0.0</td>\n",
       "      <td>Fc</td>\n",
       "      <td>Calculated data</td>\n",
       "      <td>NaN</td>\n",
       "    </tr>\n",
       "    <tr>\n",
       "      <th>3</th>\n",
       "      <td>GI</td>\n",
       "      <td>Fires</td>\n",
       "      <td>AFG</td>\n",
       "      <td>Afghanistan</td>\n",
       "      <td>7246</td>\n",
       "      <td>Burned Area</td>\n",
       "      <td>6796</td>\n",
       "      <td>Humid tropical forest</td>\n",
       "      <td>1993</td>\n",
       "      <td>1993</td>\n",
       "      <td>3050</td>\n",
       "      <td>FAO TIER 1</td>\n",
       "      <td>ha</td>\n",
       "      <td>0.0</td>\n",
       "      <td>Fc</td>\n",
       "      <td>Calculated data</td>\n",
       "      <td>NaN</td>\n",
       "    </tr>\n",
       "    <tr>\n",
       "      <th>4</th>\n",
       "      <td>GI</td>\n",
       "      <td>Fires</td>\n",
       "      <td>AFG</td>\n",
       "      <td>Afghanistan</td>\n",
       "      <td>7246</td>\n",
       "      <td>Burned Area</td>\n",
       "      <td>6796</td>\n",
       "      <td>Humid tropical forest</td>\n",
       "      <td>1994</td>\n",
       "      <td>1994</td>\n",
       "      <td>3050</td>\n",
       "      <td>FAO TIER 1</td>\n",
       "      <td>ha</td>\n",
       "      <td>0.0</td>\n",
       "      <td>Fc</td>\n",
       "      <td>Calculated data</td>\n",
       "      <td>NaN</td>\n",
       "    </tr>\n",
       "  </tbody>\n",
       "</table>\n",
       "</div>"
      ],
      "text/plain": [
       "  Domain Code Domain Area Code (ISO3)         Area  Element Code      Element  \\\n",
       "0          GI  Fires              AFG  Afghanistan          7246  Burned Area   \n",
       "1          GI  Fires              AFG  Afghanistan          7246  Burned Area   \n",
       "2          GI  Fires              AFG  Afghanistan          7246  Burned Area   \n",
       "3          GI  Fires              AFG  Afghanistan          7246  Burned Area   \n",
       "4          GI  Fires              AFG  Afghanistan          7246  Burned Area   \n",
       "\n",
       "   Item Code                   Item  Year Code  Year  Source Code      Source  \\\n",
       "0       6796  Humid tropical forest       1990  1990         3050  FAO TIER 1   \n",
       "1       6796  Humid tropical forest       1991  1991         3050  FAO TIER 1   \n",
       "2       6796  Humid tropical forest       1992  1992         3050  FAO TIER 1   \n",
       "3       6796  Humid tropical forest       1993  1993         3050  FAO TIER 1   \n",
       "4       6796  Humid tropical forest       1994  1994         3050  FAO TIER 1   \n",
       "\n",
       "  Unit  Value Flag Flag Description  Note  \n",
       "0   ha    0.0   Fc  Calculated data   NaN  \n",
       "1   ha    0.0   Fc  Calculated data   NaN  \n",
       "2   ha    0.0   Fc  Calculated data   NaN  \n",
       "3   ha    0.0   Fc  Calculated data   NaN  \n",
       "4   ha    0.0   Fc  Calculated data   NaN  "
      ]
     },
     "execution_count": 3,
     "metadata": {},
     "output_type": "execute_result"
    }
   ],
   "source": [
    "fires_df=pd.read_csv('fires_data_11-29-2021.csv')\n",
    "fires_df.head()"
   ]
  },
  {
   "cell_type": "markdown",
   "metadata": {},
   "source": [
    "## Basic info about Data Set"
   ]
  },
  {
   "cell_type": "code",
   "execution_count": 4,
   "metadata": {},
   "outputs": [
    {
     "data": {
      "text/plain": [
       "(47649, 17)"
      ]
     },
     "execution_count": 4,
     "metadata": {},
     "output_type": "execute_result"
    }
   ],
   "source": [
    "# rows and columns of dataset\n",
    "fires_df.shape"
   ]
  },
  {
   "cell_type": "code",
   "execution_count": 5,
   "metadata": {},
   "outputs": [
    {
     "name": "stdout",
     "output_type": "stream",
     "text": [
      "<class 'pandas.core.frame.DataFrame'>\n",
      "RangeIndex: 47649 entries, 0 to 47648\n",
      "Data columns (total 17 columns):\n",
      " #   Column            Non-Null Count  Dtype  \n",
      "---  ------            --------------  -----  \n",
      " 0   Domain Code       47649 non-null  object \n",
      " 1   Domain            47649 non-null  object \n",
      " 2   Area Code (ISO3)  47649 non-null  object \n",
      " 3   Area              47649 non-null  object \n",
      " 4   Element Code      47649 non-null  int64  \n",
      " 5   Element           47649 non-null  object \n",
      " 6   Item Code         47649 non-null  int64  \n",
      " 7   Item              47649 non-null  object \n",
      " 8   Year Code         47649 non-null  int64  \n",
      " 9   Year              47649 non-null  int64  \n",
      " 10  Source Code       47649 non-null  int64  \n",
      " 11  Source            47649 non-null  object \n",
      " 12  Unit              47649 non-null  object \n",
      " 13  Value             47649 non-null  float64\n",
      " 14  Flag              47649 non-null  object \n",
      " 15  Flag Description  47649 non-null  object \n",
      " 16  Note              0 non-null      float64\n",
      "dtypes: float64(2), int64(5), object(10)\n",
      "memory usage: 6.2+ MB\n"
     ]
    }
   ],
   "source": [
    "# basic info column data type and non null values\n",
    "fires_df.info()"
   ]
  },
  {
   "cell_type": "code",
   "execution_count": 6,
   "metadata": {},
   "outputs": [
    {
     "data": {
      "text/html": [
       "<div>\n",
       "<style scoped>\n",
       "    .dataframe tbody tr th:only-of-type {\n",
       "        vertical-align: middle;\n",
       "    }\n",
       "\n",
       "    .dataframe tbody tr th {\n",
       "        vertical-align: top;\n",
       "    }\n",
       "\n",
       "    .dataframe thead th {\n",
       "        text-align: right;\n",
       "    }\n",
       "</style>\n",
       "<table border=\"1\" class=\"dataframe\">\n",
       "  <thead>\n",
       "    <tr style=\"text-align: right;\">\n",
       "      <th></th>\n",
       "      <th>Element Code</th>\n",
       "      <th>Item Code</th>\n",
       "      <th>Year Code</th>\n",
       "      <th>Year</th>\n",
       "      <th>Source Code</th>\n",
       "      <th>Value</th>\n",
       "      <th>Note</th>\n",
       "    </tr>\n",
       "  </thead>\n",
       "  <tbody>\n",
       "    <tr>\n",
       "      <th>count</th>\n",
       "      <td>47649.0</td>\n",
       "      <td>47649.000000</td>\n",
       "      <td>47649.000000</td>\n",
       "      <td>47649.000000</td>\n",
       "      <td>47649.0</td>\n",
       "      <td>4.764900e+04</td>\n",
       "      <td>0.0</td>\n",
       "    </tr>\n",
       "    <tr>\n",
       "      <th>mean</th>\n",
       "      <td>7246.0</td>\n",
       "      <td>6788.428571</td>\n",
       "      <td>2004.636404</td>\n",
       "      <td>2004.636404</td>\n",
       "      <td>3050.0</td>\n",
       "      <td>4.120817e+05</td>\n",
       "      <td>NaN</td>\n",
       "    </tr>\n",
       "    <tr>\n",
       "      <th>std</th>\n",
       "      <td>0.0</td>\n",
       "      <td>11.890783</td>\n",
       "      <td>8.609612</td>\n",
       "      <td>8.609612</td>\n",
       "      <td>0.0</td>\n",
       "      <td>2.744637e+06</td>\n",
       "      <td>NaN</td>\n",
       "    </tr>\n",
       "    <tr>\n",
       "      <th>min</th>\n",
       "      <td>7246.0</td>\n",
       "      <td>6760.000000</td>\n",
       "      <td>1990.000000</td>\n",
       "      <td>1990.000000</td>\n",
       "      <td>3050.0</td>\n",
       "      <td>0.000000e+00</td>\n",
       "      <td>NaN</td>\n",
       "    </tr>\n",
       "    <tr>\n",
       "      <th>25%</th>\n",
       "      <td>7246.0</td>\n",
       "      <td>6789.000000</td>\n",
       "      <td>1997.000000</td>\n",
       "      <td>1997.000000</td>\n",
       "      <td>3050.0</td>\n",
       "      <td>0.000000e+00</td>\n",
       "      <td>NaN</td>\n",
       "    </tr>\n",
       "    <tr>\n",
       "      <th>50%</th>\n",
       "      <td>7246.0</td>\n",
       "      <td>6792.000000</td>\n",
       "      <td>2005.000000</td>\n",
       "      <td>2005.000000</td>\n",
       "      <td>3050.0</td>\n",
       "      <td>0.000000e+00</td>\n",
       "      <td>NaN</td>\n",
       "    </tr>\n",
       "    <tr>\n",
       "      <th>75%</th>\n",
       "      <td>7246.0</td>\n",
       "      <td>6796.000000</td>\n",
       "      <td>2012.000000</td>\n",
       "      <td>2012.000000</td>\n",
       "      <td>3050.0</td>\n",
       "      <td>5.514973e+03</td>\n",
       "      <td>NaN</td>\n",
       "    </tr>\n",
       "    <tr>\n",
       "      <th>max</th>\n",
       "      <td>7246.0</td>\n",
       "      <td>6797.000000</td>\n",
       "      <td>2019.000000</td>\n",
       "      <td>2019.000000</td>\n",
       "      <td>3050.0</td>\n",
       "      <td>1.052085e+08</td>\n",
       "      <td>NaN</td>\n",
       "    </tr>\n",
       "  </tbody>\n",
       "</table>\n",
       "</div>"
      ],
      "text/plain": [
       "       Element Code     Item Code     Year Code          Year  Source Code  \\\n",
       "count       47649.0  47649.000000  47649.000000  47649.000000      47649.0   \n",
       "mean         7246.0   6788.428571   2004.636404   2004.636404       3050.0   \n",
       "std             0.0     11.890783      8.609612      8.609612          0.0   \n",
       "min          7246.0   6760.000000   1990.000000   1990.000000       3050.0   \n",
       "25%          7246.0   6789.000000   1997.000000   1997.000000       3050.0   \n",
       "50%          7246.0   6792.000000   2005.000000   2005.000000       3050.0   \n",
       "75%          7246.0   6796.000000   2012.000000   2012.000000       3050.0   \n",
       "max          7246.0   6797.000000   2019.000000   2019.000000       3050.0   \n",
       "\n",
       "              Value  Note  \n",
       "count  4.764900e+04   0.0  \n",
       "mean   4.120817e+05   NaN  \n",
       "std    2.744637e+06   NaN  \n",
       "min    0.000000e+00   NaN  \n",
       "25%    0.000000e+00   NaN  \n",
       "50%    0.000000e+00   NaN  \n",
       "75%    5.514973e+03   NaN  \n",
       "max    1.052085e+08   NaN  "
      ]
     },
     "execution_count": 6,
     "metadata": {},
     "output_type": "execute_result"
    }
   ],
   "source": [
    "# summary statistics\n",
    "fires_df.describe()"
   ]
  },
  {
   "cell_type": "code",
   "execution_count": 9,
   "metadata": {},
   "outputs": [
    {
     "data": {
      "text/plain": [
       "Domain Code           0.0\n",
       "Domain                0.0\n",
       "Area Code (ISO3)      0.0\n",
       "Area                  0.0\n",
       "Element Code          0.0\n",
       "Element               0.0\n",
       "Item Code             0.0\n",
       "Item                  0.0\n",
       "Year Code             0.0\n",
       "Year                  0.0\n",
       "Source Code           0.0\n",
       "Source                0.0\n",
       "Unit                  0.0\n",
       "Value                 0.0\n",
       "Flag                  0.0\n",
       "Flag Description      0.0\n",
       "Note                100.0\n",
       "dtype: float64"
      ]
     },
     "execution_count": 9,
     "metadata": {},
     "output_type": "execute_result"
    }
   ],
   "source": [
    "# percentage of null values\n",
    "(fires_df.isna().sum()/fires_df.shape[0])*100"
   ]
  },
  {
   "cell_type": "markdown",
   "metadata": {},
   "source": [
    "## Dropping Unnecessary columns"
   ]
  },
  {
   "cell_type": "code",
   "execution_count": 10,
   "metadata": {},
   "outputs": [
    {
     "data": {
      "text/plain": [
       "Index(['Domain Code', 'Domain', 'Area Code (ISO3)', 'Area', 'Element Code',\n",
       "       'Element', 'Item Code', 'Item', 'Year Code', 'Year', 'Source Code',\n",
       "       'Source', 'Unit', 'Value', 'Flag', 'Flag Description', 'Note'],\n",
       "      dtype='object')"
      ]
     },
     "execution_count": 10,
     "metadata": {},
     "output_type": "execute_result"
    }
   ],
   "source": [
    "# column names\n",
    "fires_df.columns"
   ]
  },
  {
   "cell_type": "code",
   "execution_count": 11,
   "metadata": {},
   "outputs": [
    {
     "data": {
      "text/html": [
       "<div>\n",
       "<style scoped>\n",
       "    .dataframe tbody tr th:only-of-type {\n",
       "        vertical-align: middle;\n",
       "    }\n",
       "\n",
       "    .dataframe tbody tr th {\n",
       "        vertical-align: top;\n",
       "    }\n",
       "\n",
       "    .dataframe thead th {\n",
       "        text-align: right;\n",
       "    }\n",
       "</style>\n",
       "<table border=\"1\" class=\"dataframe\">\n",
       "  <thead>\n",
       "    <tr style=\"text-align: right;\">\n",
       "      <th></th>\n",
       "      <th>Area</th>\n",
       "      <th>Item</th>\n",
       "      <th>Year</th>\n",
       "      <th>Value</th>\n",
       "    </tr>\n",
       "  </thead>\n",
       "  <tbody>\n",
       "    <tr>\n",
       "      <th>0</th>\n",
       "      <td>Afghanistan</td>\n",
       "      <td>Humid tropical forest</td>\n",
       "      <td>1990</td>\n",
       "      <td>0.0</td>\n",
       "    </tr>\n",
       "    <tr>\n",
       "      <th>1</th>\n",
       "      <td>Afghanistan</td>\n",
       "      <td>Humid tropical forest</td>\n",
       "      <td>1991</td>\n",
       "      <td>0.0</td>\n",
       "    </tr>\n",
       "    <tr>\n",
       "      <th>2</th>\n",
       "      <td>Afghanistan</td>\n",
       "      <td>Humid tropical forest</td>\n",
       "      <td>1992</td>\n",
       "      <td>0.0</td>\n",
       "    </tr>\n",
       "    <tr>\n",
       "      <th>3</th>\n",
       "      <td>Afghanistan</td>\n",
       "      <td>Humid tropical forest</td>\n",
       "      <td>1993</td>\n",
       "      <td>0.0</td>\n",
       "    </tr>\n",
       "    <tr>\n",
       "      <th>4</th>\n",
       "      <td>Afghanistan</td>\n",
       "      <td>Humid tropical forest</td>\n",
       "      <td>1994</td>\n",
       "      <td>0.0</td>\n",
       "    </tr>\n",
       "  </tbody>\n",
       "</table>\n",
       "</div>"
      ],
      "text/plain": [
       "          Area                   Item  Year  Value\n",
       "0  Afghanistan  Humid tropical forest  1990    0.0\n",
       "1  Afghanistan  Humid tropical forest  1991    0.0\n",
       "2  Afghanistan  Humid tropical forest  1992    0.0\n",
       "3  Afghanistan  Humid tropical forest  1993    0.0\n",
       "4  Afghanistan  Humid tropical forest  1994    0.0"
      ]
     },
     "execution_count": 11,
     "metadata": {},
     "output_type": "execute_result"
    }
   ],
   "source": [
    "# dropping columns\n",
    "new_fires_df=fires_df.drop(['Domain Code', 'Domain', 'Area Code (ISO3)','Element Code',\n",
    "       'Element', 'Item Code','Year Code','Source Code','Source', 'Unit','Flag', \n",
    "       'Flag Description', 'Note'],axis=1)\n",
    "\n",
    "# new data frame\n",
    "new_fires_df.head()"
   ]
  },
  {
   "cell_type": "code",
   "execution_count": 12,
   "metadata": {},
   "outputs": [
    {
     "data": {
      "text/plain": [
       "Afghanistan                        210\n",
       "Puerto Rico                        210\n",
       "Namibia                            210\n",
       "Nauru                              210\n",
       "Nepal                              210\n",
       "                                  ... \n",
       "Czechoslovakia                      21\n",
       "Ethiopia PDR                        21\n",
       "USSR                                14\n",
       "Yugoslav SFR                        14\n",
       "Pacific Islands Trust Territory      7\n",
       "Name: Area, Length: 238, dtype: int64"
      ]
     },
     "execution_count": 12,
     "metadata": {},
     "output_type": "execute_result"
    }
   ],
   "source": [
    "new_fires_df['Area'].value_counts()"
   ]
  },
  {
   "cell_type": "code",
   "execution_count": 13,
   "metadata": {},
   "outputs": [
    {
     "data": {
      "text/html": [
       "<div>\n",
       "<style scoped>\n",
       "    .dataframe tbody tr th:only-of-type {\n",
       "        vertical-align: middle;\n",
       "    }\n",
       "\n",
       "    .dataframe tbody tr th {\n",
       "        vertical-align: top;\n",
       "    }\n",
       "\n",
       "    .dataframe thead th {\n",
       "        text-align: right;\n",
       "    }\n",
       "</style>\n",
       "<table border=\"1\" class=\"dataframe\">\n",
       "  <thead>\n",
       "    <tr style=\"text-align: right;\">\n",
       "      <th></th>\n",
       "      <th>Area</th>\n",
       "      <th>Item</th>\n",
       "      <th>Year</th>\n",
       "      <th>Value</th>\n",
       "    </tr>\n",
       "  </thead>\n",
       "  <tbody>\n",
       "    <tr>\n",
       "      <th>0</th>\n",
       "      <td>Afghanistan</td>\n",
       "      <td>Humid tropical forest</td>\n",
       "      <td>1990</td>\n",
       "      <td>0.0</td>\n",
       "    </tr>\n",
       "    <tr>\n",
       "      <th>1</th>\n",
       "      <td>Afghanistan</td>\n",
       "      <td>Humid tropical forest</td>\n",
       "      <td>1991</td>\n",
       "      <td>0.0</td>\n",
       "    </tr>\n",
       "    <tr>\n",
       "      <th>2</th>\n",
       "      <td>Afghanistan</td>\n",
       "      <td>Humid tropical forest</td>\n",
       "      <td>1992</td>\n",
       "      <td>0.0</td>\n",
       "    </tr>\n",
       "    <tr>\n",
       "      <th>3</th>\n",
       "      <td>Afghanistan</td>\n",
       "      <td>Humid tropical forest</td>\n",
       "      <td>1993</td>\n",
       "      <td>0.0</td>\n",
       "    </tr>\n",
       "    <tr>\n",
       "      <th>4</th>\n",
       "      <td>Afghanistan</td>\n",
       "      <td>Humid tropical forest</td>\n",
       "      <td>1994</td>\n",
       "      <td>0.0</td>\n",
       "    </tr>\n",
       "  </tbody>\n",
       "</table>\n",
       "</div>"
      ],
      "text/plain": [
       "          Area                   Item  Year  Value\n",
       "0  Afghanistan  Humid tropical forest  1990    0.0\n",
       "1  Afghanistan  Humid tropical forest  1991    0.0\n",
       "2  Afghanistan  Humid tropical forest  1992    0.0\n",
       "3  Afghanistan  Humid tropical forest  1993    0.0\n",
       "4  Afghanistan  Humid tropical forest  1994    0.0"
      ]
     },
     "execution_count": 13,
     "metadata": {},
     "output_type": "execute_result"
    }
   ],
   "source": [
    "# choosing only Afghanistan, India and Pakistan from 'Area' column\n",
    "new_fires_selected=new_fires_df[new_fires_df[\"Area\"].isin([\"Afghanistan\",\"India\",\"Pakistan\"])]\n",
    "new_fires_selected.head()"
   ]
  },
  {
   "cell_type": "code",
   "execution_count": 14,
   "metadata": {},
   "outputs": [
    {
     "name": "stderr",
     "output_type": "stream",
     "text": [
      "C:\\Users\\karar\\AppData\\Local\\Temp\\ipykernel_13876\\4140955081.py:1: FutureWarning: ['Item'] did not aggregate successfully. If any error is raised this will raise in a future version of pandas. Drop these columns/ops to avoid this warning.\n",
      "  new_fires_selected.groupby(by=\"Area\").agg([\"min\", \"max\", \"mean\"])\n"
     ]
    },
    {
     "data": {
      "text/html": [
       "<div>\n",
       "<style scoped>\n",
       "    .dataframe tbody tr th:only-of-type {\n",
       "        vertical-align: middle;\n",
       "    }\n",
       "\n",
       "    .dataframe tbody tr th {\n",
       "        vertical-align: top;\n",
       "    }\n",
       "\n",
       "    .dataframe thead tr th {\n",
       "        text-align: left;\n",
       "    }\n",
       "\n",
       "    .dataframe thead tr:last-of-type th {\n",
       "        text-align: right;\n",
       "    }\n",
       "</style>\n",
       "<table border=\"1\" class=\"dataframe\">\n",
       "  <thead>\n",
       "    <tr>\n",
       "      <th></th>\n",
       "      <th colspan=\"3\" halign=\"left\">Year</th>\n",
       "      <th colspan=\"3\" halign=\"left\">Value</th>\n",
       "    </tr>\n",
       "    <tr>\n",
       "      <th></th>\n",
       "      <th>min</th>\n",
       "      <th>max</th>\n",
       "      <th>mean</th>\n",
       "      <th>min</th>\n",
       "      <th>max</th>\n",
       "      <th>mean</th>\n",
       "    </tr>\n",
       "    <tr>\n",
       "      <th>Area</th>\n",
       "      <th></th>\n",
       "      <th></th>\n",
       "      <th></th>\n",
       "      <th></th>\n",
       "      <th></th>\n",
       "      <th></th>\n",
       "    </tr>\n",
       "  </thead>\n",
       "  <tbody>\n",
       "    <tr>\n",
       "      <th>Afghanistan</th>\n",
       "      <td>1990</td>\n",
       "      <td>2019</td>\n",
       "      <td>2004.5</td>\n",
       "      <td>0.0</td>\n",
       "      <td>2.254087e+05</td>\n",
       "      <td>4784.935626</td>\n",
       "    </tr>\n",
       "    <tr>\n",
       "      <th>India</th>\n",
       "      <td>1990</td>\n",
       "      <td>2019</td>\n",
       "      <td>2004.5</td>\n",
       "      <td>0.0</td>\n",
       "      <td>2.609465e+06</td>\n",
       "      <td>311726.208020</td>\n",
       "    </tr>\n",
       "    <tr>\n",
       "      <th>Pakistan</th>\n",
       "      <td>1990</td>\n",
       "      <td>2019</td>\n",
       "      <td>2004.5</td>\n",
       "      <td>0.0</td>\n",
       "      <td>8.171537e+04</td>\n",
       "      <td>4835.083604</td>\n",
       "    </tr>\n",
       "  </tbody>\n",
       "</table>\n",
       "</div>"
      ],
      "text/plain": [
       "             Year               Value                             \n",
       "              min   max    mean   min           max           mean\n",
       "Area                                                              \n",
       "Afghanistan  1990  2019  2004.5   0.0  2.254087e+05    4784.935626\n",
       "India        1990  2019  2004.5   0.0  2.609465e+06  311726.208020\n",
       "Pakistan     1990  2019  2004.5   0.0  8.171537e+04    4835.083604"
      ]
     },
     "execution_count": 14,
     "metadata": {},
     "output_type": "execute_result"
    }
   ],
   "source": [
    "# minimum, maximum and mean of numeric columns\n",
    "new_fires_selected.groupby(by=\"Area\").agg([\"min\", \"max\", \"mean\"])"
   ]
  },
  {
   "cell_type": "code",
   "execution_count": 18,
   "metadata": {},
   "outputs": [
    {
     "name": "stderr",
     "output_type": "stream",
     "text": [
      "c:\\Users\\karar\\AppData\\Local\\Programs\\Python\\Python310\\lib\\site-packages\\seaborn\\distributions.py:2619: FutureWarning: `distplot` is a deprecated function and will be removed in a future version. Please adapt your code to use either `displot` (a figure-level function with similar flexibility) or `histplot` (an axes-level function for histograms).\n",
      "  warnings.warn(msg, FutureWarning)\n",
      "c:\\Users\\karar\\AppData\\Local\\Programs\\Python\\Python310\\lib\\site-packages\\seaborn\\distributions.py:2619: FutureWarning: `distplot` is a deprecated function and will be removed in a future version. Please adapt your code to use either `displot` (a figure-level function with similar flexibility) or `histplot` (an axes-level function for histograms).\n",
      "  warnings.warn(msg, FutureWarning)\n",
      "c:\\Users\\karar\\AppData\\Local\\Programs\\Python\\Python310\\lib\\site-packages\\seaborn\\distributions.py:2619: FutureWarning: `distplot` is a deprecated function and will be removed in a future version. Please adapt your code to use either `displot` (a figure-level function with similar flexibility) or `histplot` (an axes-level function for histograms).\n",
      "  warnings.warn(msg, FutureWarning)\n"
     ]
    },
    {
     "data": {
      "image/png": "[encoded data removed]",
      "text/plain": [
       "<Figure size 1080x360 with 1 Axes>"
      ]
     },
     "metadata": {},
     "output_type": "display_data"
    }
   ],
   "source": [
    "# showing data in distplot\n",
    "sns.set_style(\"whitegrid\")\n",
    "plt.figure(figsize=(15,5))\n",
    "# selecting countries \n",
    "countries=new_fires_selected['Area'].unique()\n",
    "\n",
    "for country in countries:\n",
    "    sns.distplot(new_fires_selected[new_fires_selected[\"Area\"]==country][\"Value\"])"
   ]
  },
  {
   "cell_type": "code",
   "execution_count": 19,
   "metadata": {},
   "outputs": [
    {
     "data": {
      "text/plain": [
       "<AxesSubplot:xlabel='Year', ylabel='Value'>"
      ]
     },
     "execution_count": 19,
     "metadata": {},
     "output_type": "execute_result"
    },
    {
     "data": {
      "image/png": "[encoded data removed]",
      "text/plain": [
       "<Figure size 432x288 with 1 Axes>"
      ]
     },
     "metadata": {},
     "output_type": "display_data"
    }
   ],
   "source": [
    "sns.histplot(data=new_fires_selected,x=\"Year\",y=\"Value\")"
   ]
  }
 ],
 "metadata": {
  "kernelspec": {
   "display_name": "Python 3.10.5 64-bit",
   "language": "python",
   "name": "python3"
  },
  "language_info": {
   "codemirror_mode": {
    "name": "ipython",
    "version": 3
   },
   "file_extension": ".py",
   "mimetype": "text/x-python",
   "name": "python",
   "nbconvert_exporter": "python",
   "pygments_lexer": "ipython3",
   "version": "3.10.5"
  },
  "orig_nbformat": 4,
  "vscode": {
   "interpreter": {
    "hash": "2bea1e3ce8ade833f4ca8ac47a81575824f502afdec82e06697e93126290b0e4"
   }
  }
 },
 "nbformat": 4,
 "nbformat_minor": 2
}
