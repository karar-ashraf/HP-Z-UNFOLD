{
 "cells": [
  {
   "cell_type": "markdown",
   "metadata": {},
   "source": [
    "# Z Unlock Challenge 1 Fires Data EDA"
   ]
  },
  {
   "cell_type": "markdown",
   "metadata": {},
   "source": [
    "## Import Required Libraries"
   ]
  },
  {
   "cell_type": "code",
   "execution_count": 1,
   "metadata": {},
   "outputs": [],
   "source": [
    "import numpy as np\n",
    "import pandas as pd\n",
    "import seaborn as sns\n",
    "import matplotlib.pyplot as plt"
   ]
  },
  {
   "cell_type": "markdown",
   "metadata": {},
   "source": [
    "## Import Fires Data Set"
   ]
  },
  {
   "cell_type": "code",
   "execution_count": 2,
   "metadata": {},
   "outputs": [
    {
     "data": {
      "text/html": [
       "<div>\n",
       "<style scoped>\n",
       "    .dataframe tbody tr th:only-of-type {\n",
       "        vertical-align: middle;\n",
       "    }\n",
       "\n",
       "    .dataframe tbody tr th {\n",
       "        vertical-align: top;\n",
       "    }\n",
       "\n",
       "    .dataframe thead th {\n",
       "        text-align: right;\n",
       "    }\n",
       "</style>\n",
       "<table border=\"1\" class=\"dataframe\">\n",
       "  <thead>\n",
       "    <tr style=\"text-align: right;\">\n",
       "      <th></th>\n",
       "      <th>Domain Code</th>\n",
       "      <th>Domain</th>\n",
       "      <th>Area Code (ISO3)</th>\n",
       "      <th>Area</th>\n",
       "      <th>Element Code</th>\n",
       "      <th>Element</th>\n",
       "      <th>Item Code</th>\n",
       "      <th>Item</th>\n",
       "      <th>Year Code</th>\n",
       "      <th>Year</th>\n",
       "      <th>Source Code</th>\n",
       "      <th>Source</th>\n",
       "      <th>Unit</th>\n",
       "      <th>Value</th>\n",
       "      <th>Flag</th>\n",
       "      <th>Flag Description</th>\n",
       "      <th>Note</th>\n",
       "    </tr>\n",
       "  </thead>\n",
       "  <tbody>\n",
       "    <tr>\n",
       "      <th>0</th>\n",
       "      <td>GI</td>\n",
       "      <td>Fires</td>\n",
       "      <td>AFG</td>\n",
       "      <td>Afghanistan</td>\n",
       "      <td>7246</td>\n",
       "      <td>Burned Area</td>\n",
       "      <td>6796</td>\n",
       "      <td>Humid tropical forest</td>\n",
       "      <td>1990</td>\n",
       "      <td>1990</td>\n",
       "      <td>3050</td>\n",
       "      <td>FAO TIER 1</td>\n",
       "      <td>ha</td>\n",
       "      <td>0.0</td>\n",
       "      <td>Fc</td>\n",
       "      <td>Calculated data</td>\n",
       "      <td>NaN</td>\n",
       "    </tr>\n",
       "    <tr>\n",
       "      <th>1</th>\n",
       "      <td>GI</td>\n",
       "      <td>Fires</td>\n",
       "      <td>AFG</td>\n",
       "      <td>Afghanistan</td>\n",
       "      <td>7246</td>\n",
       "      <td>Burned Area</td>\n",
       "      <td>6796</td>\n",
       "      <td>Humid tropical forest</td>\n",
       "      <td>1991</td>\n",
       "      <td>1991</td>\n",
       "      <td>3050</td>\n",
       "      <td>FAO TIER 1</td>\n",
       "      <td>ha</td>\n",
       "      <td>0.0</td>\n",
       "      <td>Fc</td>\n",
       "      <td>Calculated data</td>\n",
       "      <td>NaN</td>\n",
       "    </tr>\n",
       "    <tr>\n",
       "      <th>2</th>\n",
       "      <td>GI</td>\n",
       "      <td>Fires</td>\n",
       "      <td>AFG</td>\n",
       "      <td>Afghanistan</td>\n",
       "      <td>7246</td>\n",
       "      <td>Burned Area</td>\n",
       "      <td>6796</td>\n",
       "      <td>Humid tropical forest</td>\n",
       "      <td>1992</td>\n",
       "      <td>1992</td>\n",
       "      <td>3050</td>\n",
       "      <td>FAO TIER 1</td>\n",
       "      <td>ha</td>\n",
       "      <td>0.0</td>\n",
       "      <td>Fc</td>\n",
       "      <td>Calculated data</td>\n",
       "      <td>NaN</td>\n",
       "    </tr>\n",
       "    <tr>\n",
       "      <th>3</th>\n",
       "      <td>GI</td>\n",
       "      <td>Fires</td>\n",
       "      <td>AFG</td>\n",
       "      <td>Afghanistan</td>\n",
       "      <td>7246</td>\n",
       "      <td>Burned Area</td>\n",
       "      <td>6796</td>\n",
       "      <td>Humid tropical forest</td>\n",
       "      <td>1993</td>\n",
       "      <td>1993</td>\n",
       "      <td>3050</td>\n",
       "      <td>FAO TIER 1</td>\n",
       "      <td>ha</td>\n",
       "      <td>0.0</td>\n",
       "      <td>Fc</td>\n",
       "      <td>Calculated data</td>\n",
       "      <td>NaN</td>\n",
       "    </tr>\n",
       "    <tr>\n",
       "      <th>4</th>\n",
       "      <td>GI</td>\n",
       "      <td>Fires</td>\n",
       "      <td>AFG</td>\n",
       "      <td>Afghanistan</td>\n",
       "      <td>7246</td>\n",
       "      <td>Burned Area</td>\n",
       "      <td>6796</td>\n",
       "      <td>Humid tropical forest</td>\n",
       "      <td>1994</td>\n",
       "      <td>1994</td>\n",
       "      <td>3050</td>\n",
       "      <td>FAO TIER 1</td>\n",
       "      <td>ha</td>\n",
       "      <td>0.0</td>\n",
       "      <td>Fc</td>\n",
       "      <td>Calculated data</td>\n",
       "      <td>NaN</td>\n",
       "    </tr>\n",
       "  </tbody>\n",
       "</table>\n",
       "</div>"
      ],
      "text/plain": [
       "  Domain Code Domain Area Code (ISO3)         Area  Element Code      Element  \\\n",
       "0          GI  Fires              AFG  Afghanistan          7246  Burned Area   \n",
       "1          GI  Fires              AFG  Afghanistan          7246  Burned Area   \n",
       "2          GI  Fires              AFG  Afghanistan          7246  Burned Area   \n",
       "3          GI  Fires              AFG  Afghanistan          7246  Burned Area   \n",
       "4          GI  Fires              AFG  Afghanistan          7246  Burned Area   \n",
       "\n",
       "   Item Code                   Item  Year Code  Year  Source Code      Source  \\\n",
       "0       6796  Humid tropical forest       1990  1990         3050  FAO TIER 1   \n",
       "1       6796  Humid tropical forest       1991  1991         3050  FAO TIER 1   \n",
       "2       6796  Humid tropical forest       1992  1992         3050  FAO TIER 1   \n",
       "3       6796  Humid tropical forest       1993  1993         3050  FAO TIER 1   \n",
       "4       6796  Humid tropical forest       1994  1994         3050  FAO TIER 1   \n",
       "\n",
       "  Unit  Value Flag Flag Description  Note  \n",
       "0   ha    0.0   Fc  Calculated data   NaN  \n",
       "1   ha    0.0   Fc  Calculated data   NaN  \n",
       "2   ha    0.0   Fc  Calculated data   NaN  \n",
       "3   ha    0.0   Fc  Calculated data   NaN  \n",
       "4   ha    0.0   Fc  Calculated data   NaN  "
      ]
     },
     "execution_count": 2,
     "metadata": {},
     "output_type": "execute_result"
    }
   ],
   "source": [
    "fires_df=pd.read_csv('fires_data_11-29-2021.csv')\n",
    "fires_df.head()"
   ]
  },
  {
   "cell_type": "markdown",
   "metadata": {},
   "source": [
    "## Basic info about Data Set"
   ]
  },
  {
   "cell_type": "code",
   "execution_count": 3,
   "metadata": {},
   "outputs": [
    {
     "data": {
      "text/plain": [
       "(47649, 17)"
      ]
     },
     "execution_count": 3,
     "metadata": {},
     "output_type": "execute_result"
    }
   ],
   "source": [
    "# rows and columns of dataset\n",
    "fires_df.shape"
   ]
  },
  {
   "cell_type": "code",
   "execution_count": 4,
   "metadata": {},
   "outputs": [
    {
     "name": "stdout",
     "output_type": "stream",
     "text": [
      "<class 'pandas.core.frame.DataFrame'>\n",
      "RangeIndex: 47649 entries, 0 to 47648\n",
      "Data columns (total 17 columns):\n",
      " #   Column            Non-Null Count  Dtype  \n",
      "---  ------            --------------  -----  \n",
      " 0   Domain Code       47649 non-null  object \n",
      " 1   Domain            47649 non-null  object \n",
      " 2   Area Code (ISO3)  47649 non-null  object \n",
      " 3   Area              47649 non-null  object \n",
      " 4   Element Code      47649 non-null  int64  \n",
      " 5   Element           47649 non-null  object \n",
      " 6   Item Code         47649 non-null  int64  \n",
      " 7   Item              47649 non-null  object \n",
      " 8   Year Code         47649 non-null  int64  \n",
      " 9   Year              47649 non-null  int64  \n",
      " 10  Source Code       47649 non-null  int64  \n",
      " 11  Source            47649 non-null  object \n",
      " 12  Unit              47649 non-null  object \n",
      " 13  Value             47649 non-null  float64\n",
      " 14  Flag              47649 non-null  object \n",
      " 15  Flag Description  47649 non-null  object \n",
      " 16  Note              0 non-null      float64\n",
      "dtypes: float64(2), int64(5), object(10)\n",
      "memory usage: 6.2+ MB\n"
     ]
    }
   ],
   "source": [
    "# basic info column data type and non null values\n",
    "fires_df.info()"
   ]
  },
  {
   "cell_type": "code",
   "execution_count": 5,
   "metadata": {},
   "outputs": [
    {
     "data": {
      "text/html": [
       "<div>\n",
       "<style scoped>\n",
       "    .dataframe tbody tr th:only-of-type {\n",
       "        vertical-align: middle;\n",
       "    }\n",
       "\n",
       "    .dataframe tbody tr th {\n",
       "        vertical-align: top;\n",
       "    }\n",
       "\n",
       "    .dataframe thead th {\n",
       "        text-align: right;\n",
       "    }\n",
       "</style>\n",
       "<table border=\"1\" class=\"dataframe\">\n",
       "  <thead>\n",
       "    <tr style=\"text-align: right;\">\n",
       "      <th></th>\n",
       "      <th>Element Code</th>\n",
       "      <th>Item Code</th>\n",
       "      <th>Year Code</th>\n",
       "      <th>Year</th>\n",
       "      <th>Source Code</th>\n",
       "      <th>Value</th>\n",
       "      <th>Note</th>\n",
       "    </tr>\n",
       "  </thead>\n",
       "  <tbody>\n",
       "    <tr>\n",
       "      <th>count</th>\n",
       "      <td>47649.0</td>\n",
       "      <td>47649.000000</td>\n",
       "      <td>47649.000000</td>\n",
       "      <td>47649.000000</td>\n",
       "      <td>47649.0</td>\n",
       "      <td>4.764900e+04</td>\n",
       "      <td>0.0</td>\n",
       "    </tr>\n",
       "    <tr>\n",
       "      <th>mean</th>\n",
       "      <td>7246.0</td>\n",
       "      <td>6788.428571</td>\n",
       "      <td>2004.636404</td>\n",
       "      <td>2004.636404</td>\n",
       "      <td>3050.0</td>\n",
       "      <td>4.120817e+05</td>\n",
       "      <td>NaN</td>\n",
       "    </tr>\n",
       "    <tr>\n",
       "      <th>std</th>\n",
       "      <td>0.0</td>\n",
       "      <td>11.890783</td>\n",
       "      <td>8.609612</td>\n",
       "      <td>8.609612</td>\n",
       "      <td>0.0</td>\n",
       "      <td>2.744637e+06</td>\n",
       "      <td>NaN</td>\n",
       "    </tr>\n",
       "    <tr>\n",
       "      <th>min</th>\n",
       "      <td>7246.0</td>\n",
       "      <td>6760.000000</td>\n",
       "      <td>1990.000000</td>\n",
       "      <td>1990.000000</td>\n",
       "      <td>3050.0</td>\n",
       "      <td>0.000000e+00</td>\n",
       "      <td>NaN</td>\n",
       "    </tr>\n",
       "    <tr>\n",
       "      <th>25%</th>\n",
       "      <td>7246.0</td>\n",
       "      <td>6789.000000</td>\n",
       "      <td>1997.000000</td>\n",
       "      <td>1997.000000</td>\n",
       "      <td>3050.0</td>\n",
       "      <td>0.000000e+00</td>\n",
       "      <td>NaN</td>\n",
       "    </tr>\n",
       "    <tr>\n",
       "      <th>50%</th>\n",
       "      <td>7246.0</td>\n",
       "      <td>6792.000000</td>\n",
       "      <td>2005.000000</td>\n",
       "      <td>2005.000000</td>\n",
       "      <td>3050.0</td>\n",
       "      <td>0.000000e+00</td>\n",
       "      <td>NaN</td>\n",
       "    </tr>\n",
       "    <tr>\n",
       "      <th>75%</th>\n",
       "      <td>7246.0</td>\n",
       "      <td>6796.000000</td>\n",
       "      <td>2012.000000</td>\n",
       "      <td>2012.000000</td>\n",
       "      <td>3050.0</td>\n",
       "      <td>5.514973e+03</td>\n",
       "      <td>NaN</td>\n",
       "    </tr>\n",
       "    <tr>\n",
       "      <th>max</th>\n",
       "      <td>7246.0</td>\n",
       "      <td>6797.000000</td>\n",
       "      <td>2019.000000</td>\n",
       "      <td>2019.000000</td>\n",
       "      <td>3050.0</td>\n",
       "      <td>1.052085e+08</td>\n",
       "      <td>NaN</td>\n",
       "    </tr>\n",
       "  </tbody>\n",
       "</table>\n",
       "</div>"
      ],
      "text/plain": [
       "       Element Code     Item Code     Year Code          Year  Source Code  \\\n",
       "count       47649.0  47649.000000  47649.000000  47649.000000      47649.0   \n",
       "mean         7246.0   6788.428571   2004.636404   2004.636404       3050.0   \n",
       "std             0.0     11.890783      8.609612      8.609612          0.0   \n",
       "min          7246.0   6760.000000   1990.000000   1990.000000       3050.0   \n",
       "25%          7246.0   6789.000000   1997.000000   1997.000000       3050.0   \n",
       "50%          7246.0   6792.000000   2005.000000   2005.000000       3050.0   \n",
       "75%          7246.0   6796.000000   2012.000000   2012.000000       3050.0   \n",
       "max          7246.0   6797.000000   2019.000000   2019.000000       3050.0   \n",
       "\n",
       "              Value  Note  \n",
       "count  4.764900e+04   0.0  \n",
       "mean   4.120817e+05   NaN  \n",
       "std    2.744637e+06   NaN  \n",
       "min    0.000000e+00   NaN  \n",
       "25%    0.000000e+00   NaN  \n",
       "50%    0.000000e+00   NaN  \n",
       "75%    5.514973e+03   NaN  \n",
       "max    1.052085e+08   NaN  "
      ]
     },
     "execution_count": 5,
     "metadata": {},
     "output_type": "execute_result"
    }
   ],
   "source": [
    "# summary statistics\n",
    "fires_df.describe()"
   ]
  },
  {
   "cell_type": "code",
   "execution_count": 6,
   "metadata": {},
   "outputs": [
    {
     "data": {
      "text/plain": [
       "Domain Code           0.0\n",
       "Domain                0.0\n",
       "Area Code (ISO3)      0.0\n",
       "Area                  0.0\n",
       "Element Code          0.0\n",
       "Element               0.0\n",
       "Item Code             0.0\n",
       "Item                  0.0\n",
       "Year Code             0.0\n",
       "Year                  0.0\n",
       "Source Code           0.0\n",
       "Source                0.0\n",
       "Unit                  0.0\n",
       "Value                 0.0\n",
       "Flag                  0.0\n",
       "Flag Description      0.0\n",
       "Note                100.0\n",
       "dtype: float64"
      ]
     },
     "execution_count": 6,
     "metadata": {},
     "output_type": "execute_result"
    }
   ],
   "source": [
    "# percentage of null values\n",
    "(fires_df.isna().sum()/fires_df.shape[0])*100"
   ]
  },
  {
   "cell_type": "markdown",
   "metadata": {},
   "source": [
    "## Dropping Unnecessary columns"
   ]
  },
  {
   "cell_type": "code",
   "execution_count": 7,
   "metadata": {},
   "outputs": [
    {
     "data": {
      "text/plain": [
       "Index(['Domain Code', 'Domain', 'Area Code (ISO3)', 'Area', 'Element Code',\n",
       "       'Element', 'Item Code', 'Item', 'Year Code', 'Year', 'Source Code',\n",
       "       'Source', 'Unit', 'Value', 'Flag', 'Flag Description', 'Note'],\n",
       "      dtype='object')"
      ]
     },
     "execution_count": 7,
     "metadata": {},
     "output_type": "execute_result"
    }
   ],
   "source": [
    "# column names\n",
    "fires_df.columns"
   ]
  },
  {
   "cell_type": "code",
   "execution_count": 8,
   "metadata": {},
   "outputs": [
    {
     "data": {
      "text/html": [
       "<div>\n",
       "<style scoped>\n",
       "    .dataframe tbody tr th:only-of-type {\n",
       "        vertical-align: middle;\n",
       "    }\n",
       "\n",
       "    .dataframe tbody tr th {\n",
       "        vertical-align: top;\n",
       "    }\n",
       "\n",
       "    .dataframe thead th {\n",
       "        text-align: right;\n",
       "    }\n",
       "</style>\n",
       "<table border=\"1\" class=\"dataframe\">\n",
       "  <thead>\n",
       "    <tr style=\"text-align: right;\">\n",
       "      <th></th>\n",
       "      <th>Area</th>\n",
       "      <th>Item</th>\n",
       "      <th>Year</th>\n",
       "      <th>Value</th>\n",
       "    </tr>\n",
       "  </thead>\n",
       "  <tbody>\n",
       "    <tr>\n",
       "      <th>0</th>\n",
       "      <td>Afghanistan</td>\n",
       "      <td>Humid tropical forest</td>\n",
       "      <td>1990</td>\n",
       "      <td>0.0</td>\n",
       "    </tr>\n",
       "    <tr>\n",
       "      <th>1</th>\n",
       "      <td>Afghanistan</td>\n",
       "      <td>Humid tropical forest</td>\n",
       "      <td>1991</td>\n",
       "      <td>0.0</td>\n",
       "    </tr>\n",
       "    <tr>\n",
       "      <th>2</th>\n",
       "      <td>Afghanistan</td>\n",
       "      <td>Humid tropical forest</td>\n",
       "      <td>1992</td>\n",
       "      <td>0.0</td>\n",
       "    </tr>\n",
       "    <tr>\n",
       "      <th>3</th>\n",
       "      <td>Afghanistan</td>\n",
       "      <td>Humid tropical forest</td>\n",
       "      <td>1993</td>\n",
       "      <td>0.0</td>\n",
       "    </tr>\n",
       "    <tr>\n",
       "      <th>4</th>\n",
       "      <td>Afghanistan</td>\n",
       "      <td>Humid tropical forest</td>\n",
       "      <td>1994</td>\n",
       "      <td>0.0</td>\n",
       "    </tr>\n",
       "  </tbody>\n",
       "</table>\n",
       "</div>"
      ],
      "text/plain": [
       "          Area                   Item  Year  Value\n",
       "0  Afghanistan  Humid tropical forest  1990    0.0\n",
       "1  Afghanistan  Humid tropical forest  1991    0.0\n",
       "2  Afghanistan  Humid tropical forest  1992    0.0\n",
       "3  Afghanistan  Humid tropical forest  1993    0.0\n",
       "4  Afghanistan  Humid tropical forest  1994    0.0"
      ]
     },
     "execution_count": 8,
     "metadata": {},
     "output_type": "execute_result"
    }
   ],
   "source": [
    "# dropping columns\n",
    "new_fires_df=fires_df.drop(['Domain Code', 'Domain', 'Area Code (ISO3)','Element Code',\n",
    "       'Element', 'Item Code','Year Code','Source Code','Source', 'Unit','Flag', \n",
    "       'Flag Description', 'Note'],axis=1)\n",
    "\n",
    "# new data frame\n",
    "new_fires_df.head()"
   ]
  },
  {
   "cell_type": "code",
   "execution_count": 9,
   "metadata": {},
   "outputs": [
    {
     "data": {
      "text/plain": [
       "Afghanistan                        210\n",
       "Puerto Rico                        210\n",
       "Namibia                            210\n",
       "Nauru                              210\n",
       "Nepal                              210\n",
       "                                  ... \n",
       "Czechoslovakia                      21\n",
       "Ethiopia PDR                        21\n",
       "USSR                                14\n",
       "Yugoslav SFR                        14\n",
       "Pacific Islands Trust Territory      7\n",
       "Name: Area, Length: 238, dtype: int64"
      ]
     },
     "execution_count": 9,
     "metadata": {},
     "output_type": "execute_result"
    }
   ],
   "source": [
    "new_fires_df['Area'].value_counts()"
   ]
  },
  {
   "cell_type": "code",
   "execution_count": 10,
   "metadata": {},
   "outputs": [
    {
     "data": {
      "text/html": [
       "<div>\n",
       "<style scoped>\n",
       "    .dataframe tbody tr th:only-of-type {\n",
       "        vertical-align: middle;\n",
       "    }\n",
       "\n",
       "    .dataframe tbody tr th {\n",
       "        vertical-align: top;\n",
       "    }\n",
       "\n",
       "    .dataframe thead th {\n",
       "        text-align: right;\n",
       "    }\n",
       "</style>\n",
       "<table border=\"1\" class=\"dataframe\">\n",
       "  <thead>\n",
       "    <tr style=\"text-align: right;\">\n",
       "      <th></th>\n",
       "      <th>Area</th>\n",
       "      <th>Item</th>\n",
       "      <th>Year</th>\n",
       "      <th>Value</th>\n",
       "    </tr>\n",
       "  </thead>\n",
       "  <tbody>\n",
       "    <tr>\n",
       "      <th>0</th>\n",
       "      <td>Afghanistan</td>\n",
       "      <td>Humid tropical forest</td>\n",
       "      <td>1990</td>\n",
       "      <td>0.0</td>\n",
       "    </tr>\n",
       "    <tr>\n",
       "      <th>1</th>\n",
       "      <td>Afghanistan</td>\n",
       "      <td>Humid tropical forest</td>\n",
       "      <td>1991</td>\n",
       "      <td>0.0</td>\n",
       "    </tr>\n",
       "    <tr>\n",
       "      <th>2</th>\n",
       "      <td>Afghanistan</td>\n",
       "      <td>Humid tropical forest</td>\n",
       "      <td>1992</td>\n",
       "      <td>0.0</td>\n",
       "    </tr>\n",
       "    <tr>\n",
       "      <th>3</th>\n",
       "      <td>Afghanistan</td>\n",
       "      <td>Humid tropical forest</td>\n",
       "      <td>1993</td>\n",
       "      <td>0.0</td>\n",
       "    </tr>\n",
       "    <tr>\n",
       "      <th>4</th>\n",
       "      <td>Afghanistan</td>\n",
       "      <td>Humid tropical forest</td>\n",
       "      <td>1994</td>\n",
       "      <td>0.0</td>\n",
       "    </tr>\n",
       "  </tbody>\n",
       "</table>\n",
       "</div>"
      ],
      "text/plain": [
       "          Area                   Item  Year  Value\n",
       "0  Afghanistan  Humid tropical forest  1990    0.0\n",
       "1  Afghanistan  Humid tropical forest  1991    0.0\n",
       "2  Afghanistan  Humid tropical forest  1992    0.0\n",
       "3  Afghanistan  Humid tropical forest  1993    0.0\n",
       "4  Afghanistan  Humid tropical forest  1994    0.0"
      ]
     },
     "execution_count": 10,
     "metadata": {},
     "output_type": "execute_result"
    }
   ],
   "source": [
    "# choosing only Afghanistan, India and Pakistan from 'Area' column\n",
    "new_fires_selected=new_fires_df[new_fires_df[\"Area\"].isin([\"Afghanistan\",\"India\",\"Pakistan\"])]\n",
    "new_fires_selected.head()"
   ]
  },
  {
   "cell_type": "code",
   "execution_count": 11,
   "metadata": {},
   "outputs": [
    {
     "name": "stderr",
     "output_type": "stream",
     "text": [
      "C:\\Users\\karar\\AppData\\Local\\Temp\\ipykernel_13292\\408873437.py:2: FutureWarning: ['Item'] did not aggregate successfully. If any error is raised this will raise in a future version of pandas. Drop these columns/ops to avoid this warning.\n",
      "  new_fires_selected.groupby(by=\"Area\").agg([\"min\", \"max\", \"mean\"])\n"
     ]
    },
    {
     "data": {
      "text/html": [
       "<div>\n",
       "<style scoped>\n",
       "    .dataframe tbody tr th:only-of-type {\n",
       "        vertical-align: middle;\n",
       "    }\n",
       "\n",
       "    .dataframe tbody tr th {\n",
       "        vertical-align: top;\n",
       "    }\n",
       "\n",
       "    .dataframe thead tr th {\n",
       "        text-align: left;\n",
       "    }\n",
       "\n",
       "    .dataframe thead tr:last-of-type th {\n",
       "        text-align: right;\n",
       "    }\n",
       "</style>\n",
       "<table border=\"1\" class=\"dataframe\">\n",
       "  <thead>\n",
       "    <tr>\n",
       "      <th></th>\n",
       "      <th colspan=\"3\" halign=\"left\">Year</th>\n",
       "      <th colspan=\"3\" halign=\"left\">Value</th>\n",
       "    </tr>\n",
       "    <tr>\n",
       "      <th></th>\n",
       "      <th>min</th>\n",
       "      <th>max</th>\n",
       "      <th>mean</th>\n",
       "      <th>min</th>\n",
       "      <th>max</th>\n",
       "      <th>mean</th>\n",
       "    </tr>\n",
       "    <tr>\n",
       "      <th>Area</th>\n",
       "      <th></th>\n",
       "      <th></th>\n",
       "      <th></th>\n",
       "      <th></th>\n",
       "      <th></th>\n",
       "      <th></th>\n",
       "    </tr>\n",
       "  </thead>\n",
       "  <tbody>\n",
       "    <tr>\n",
       "      <th>Afghanistan</th>\n",
       "      <td>1990</td>\n",
       "      <td>2019</td>\n",
       "      <td>2004.5</td>\n",
       "      <td>0.0</td>\n",
       "      <td>2.254087e+05</td>\n",
       "      <td>4784.935626</td>\n",
       "    </tr>\n",
       "    <tr>\n",
       "      <th>India</th>\n",
       "      <td>1990</td>\n",
       "      <td>2019</td>\n",
       "      <td>2004.5</td>\n",
       "      <td>0.0</td>\n",
       "      <td>2.609465e+06</td>\n",
       "      <td>311726.208020</td>\n",
       "    </tr>\n",
       "    <tr>\n",
       "      <th>Pakistan</th>\n",
       "      <td>1990</td>\n",
       "      <td>2019</td>\n",
       "      <td>2004.5</td>\n",
       "      <td>0.0</td>\n",
       "      <td>8.171537e+04</td>\n",
       "      <td>4835.083604</td>\n",
       "    </tr>\n",
       "  </tbody>\n",
       "</table>\n",
       "</div>"
      ],
      "text/plain": [
       "             Year               Value                             \n",
       "              min   max    mean   min           max           mean\n",
       "Area                                                              \n",
       "Afghanistan  1990  2019  2004.5   0.0  2.254087e+05    4784.935626\n",
       "India        1990  2019  2004.5   0.0  2.609465e+06  311726.208020\n",
       "Pakistan     1990  2019  2004.5   0.0  8.171537e+04    4835.083604"
      ]
     },
     "execution_count": 11,
     "metadata": {},
     "output_type": "execute_result"
    }
   ],
   "source": [
    "# minimum, maximum and mean of numeric columns\n",
    "new_fires_selected.groupby(by=\"Area\").agg([\"min\", \"max\", \"mean\"])"
   ]
  },
  {
   "cell_type": "code",
   "execution_count": 12,
   "metadata": {},
   "outputs": [
    {
     "name": "stderr",
     "output_type": "stream",
     "text": [
      "c:\\Users\\karar\\AppData\\Local\\Programs\\Python\\Python310\\lib\\site-packages\\seaborn\\distributions.py:2619: FutureWarning: `distplot` is a deprecated function and will be removed in a future version. Please adapt your code to use either `displot` (a figure-level function with similar flexibility) or `histplot` (an axes-level function for histograms).\n",
      "  warnings.warn(msg, FutureWarning)\n",
      "c:\\Users\\karar\\AppData\\Local\\Programs\\Python\\Python310\\lib\\site-packages\\seaborn\\distributions.py:2619: FutureWarning: `distplot` is a deprecated function and will be removed in a future version. Please adapt your code to use either `displot` (a figure-level function with similar flexibility) or `histplot` (an axes-level function for histograms).\n",
      "  warnings.warn(msg, FutureWarning)\n",
      "c:\\Users\\karar\\AppData\\Local\\Programs\\Python\\Python310\\lib\\site-packages\\seaborn\\distributions.py:2619: FutureWarning: `distplot` is a deprecated function and will be removed in a future version. Please adapt your code to use either `displot` (a figure-level function with similar flexibility) or `histplot` (an axes-level function for histograms).\n",
      "  warnings.warn(msg, FutureWarning)\n"
     ]
    },
    {
     "data": {
      "image/png": "[encoded data removed]",
      "text/plain": [
       "<Figure size 1080x360 with 1 Axes>"
      ]
     },
     "metadata": {
      "needs_background": "light"
     },
     "output_type": "display_data"
    }
   ],
   "source": [
    "# showing data in distplot\n",
    "sns.set_style(\"whitegrid\")\n",
    "plt.figure(figsize=(15,5))\n",
    "# selecting countries \n",
    "countries=new_fires_selected['Area'].unique()\n",
    "\n",
    "for country in countries:\n",
    "    sns.distplot(new_fires_selected[new_fires_selected[\"Area\"]==country][\"Value\"])"
   ]
  },
  {
   "cell_type": "code",
   "execution_count": 13,
   "metadata": {},
   "outputs": [
    {
     "data": {
      "text/plain": [
       "<AxesSubplot:xlabel='Year', ylabel='Value'>"
      ]
     },
     "execution_count": 13,
     "metadata": {},
     "output_type": "execute_result"
    },
    {
     "data": {
      "image/png": "[encoded data removed]",
      "text/plain": [
       "<Figure size 432x288 with 1 Axes>"
      ]
     },
     "metadata": {
      "needs_background": "light"
     },
     "output_type": "display_data"
    }
   ],
   "source": [
    "sns.histplot(data=new_fires_selected,x=\"Year\",y=\"Value\")"
   ]
  },
  {
   "cell_type": "code",
   "execution_count": 15,
   "metadata": {},
   "outputs": [
    {
     "name": "stdout",
     "output_type": "stream",
     "text": [
      "Collecting pycountry_convertNote: you may need to restart the kernel to use updated packages.\n",
      "\n",
      "  Downloading pycountry_convert-0.7.2-py3-none-any.whl (13 kB)\n",
      "Collecting pytest-mock>=1.6.3\n",
      "  Downloading pytest_mock-3.8.2-py3-none-any.whl (9.1 kB)\n",
      "Collecting wheel>=0.30.0\n",
      "  Downloading wheel-0.37.1-py2.py3-none-any.whl (35 kB)\n",
      "Collecting pytest-cov>=2.5.1\n",
      "  Downloading pytest_cov-3.0.0-py3-none-any.whl (20 kB)\n",
      "Collecting repoze.lru>=0.7\n",
      "  Downloading repoze.lru-0.7-py3-none-any.whl (10 kB)\n",
      "Collecting pytest>=3.4.0\n",
      "  Using cached pytest-7.1.2-py3-none-any.whl (297 kB)\n",
      "Collecting pycountry>=16.11.27.1\n",
      "  Downloading pycountry-22.3.5.tar.gz (10.1 MB)\n",
      "     -------------------------------------- 10.1/10.1 MB 684.7 kB/s eta 0:00:00\n",
      "  Installing build dependencies: started\n",
      "  Installing build dependencies: finished with status 'done'\n",
      "  Getting requirements to build wheel: started\n",
      "  Getting requirements to build wheel: finished with status 'done'\n",
      "  Preparing metadata (pyproject.toml): started\n",
      "  Preparing metadata (pyproject.toml): finished with status 'done'\n",
      "Collecting pprintpp>=0.3.0\n",
      "  Downloading pprintpp-0.4.0-py2.py3-none-any.whl (16 kB)\n",
      "Requirement already satisfied: setuptools in c:\\users\\karar\\appdata\\roaming\\python\\python310\\site-packages (from pycountry>=16.11.27.1->pycountry_convert) (63.2.0)\n",
      "Requirement already satisfied: colorama in c:\\users\\karar\\appdata\\roaming\\python\\python310\\site-packages (from pytest>=3.4.0->pycountry_convert) (0.4.5)\n",
      "Collecting atomicwrites>=1.0\n",
      "  Downloading atomicwrites-1.4.1.tar.gz (14 kB)\n",
      "  Preparing metadata (setup.py): started\n",
      "  Preparing metadata (setup.py): finished with status 'done'\n",
      "Collecting py>=1.8.2\n",
      "  Downloading py-1.11.0-py2.py3-none-any.whl (98 kB)\n",
      "     -------------------------------------- 98.7/98.7 kB 941.1 kB/s eta 0:00:00\n",
      "Collecting iniconfig\n",
      "  Downloading iniconfig-1.1.1-py2.py3-none-any.whl (5.0 kB)\n",
      "Requirement already satisfied: packaging in c:\\users\\karar\\appdata\\roaming\\python\\python310\\site-packages (from pytest>=3.4.0->pycountry_convert) (21.3)\n",
      "Collecting tomli>=1.0.0\n",
      "  Downloading tomli-2.0.1-py3-none-any.whl (12 kB)\n",
      "Collecting pluggy<2.0,>=0.12\n",
      "  Downloading pluggy-1.0.0-py2.py3-none-any.whl (13 kB)\n",
      "Requirement already satisfied: attrs>=19.2.0 in c:\\users\\karar\\appdata\\local\\programs\\python\\python310\\lib\\site-packages (from pytest>=3.4.0->pycountry_convert) (21.4.0)\n",
      "Collecting coverage[toml]>=5.2.1\n",
      "  Downloading coverage-6.4.4-cp310-cp310-win_amd64.whl (187 kB)\n",
      "     -------------------------------------- 187.7/187.7 kB 1.1 MB/s eta 0:00:00\n",
      "Requirement already satisfied: pyparsing!=3.0.5,>=2.0.2 in c:\\users\\karar\\appdata\\roaming\\python\\python310\\site-packages (from packaging->pytest>=3.4.0->pycountry_convert) (3.0.9)\n",
      "Using legacy 'setup.py install' for atomicwrites, since package 'wheel' is not installed.\n",
      "Building wheels for collected packages: pycountry\n",
      "  Building wheel for pycountry (pyproject.toml): started\n",
      "  Building wheel for pycountry (pyproject.toml): finished with status 'done'\n",
      "  Created wheel for pycountry: filename=pycountry-22.3.5-py2.py3-none-any.whl size=10681832 sha256=b976a5f5c2e2a053984d537a5aea68e20f603ca0a8f17cba2058d888c61865cf\n",
      "  Stored in directory: c:\\users\\karar\\appdata\\local\\pip\\cache\\wheels\\03\\57\\cc\\290c5252ec97a6d78d36479a3c5e5ecc76318afcb241ad9dbe\n",
      "Successfully built pycountry\n",
      "Installing collected packages: repoze.lru, pprintpp, iniconfig, wheel, tomli, pycountry, py, pluggy, coverage, atomicwrites, pytest, pytest-mock, pytest-cov, pycountry_convert\n",
      "  Running setup.py install for atomicwrites: started\n",
      "  Running setup.py install for atomicwrites: finished with status 'done'\n",
      "Successfully installed atomicwrites-1.4.1 coverage-6.4.4 iniconfig-1.1.1 pluggy-1.0.0 pprintpp-0.4.0 py-1.11.0 pycountry-22.3.5 pycountry_convert-0.7.2 pytest-7.1.2 pytest-cov-3.0.0 pytest-mock-3.8.2 repoze.lru-0.7 tomli-2.0.1 wheel-0.37.1\n",
      "\n",
      "[notice] A new release of pip available: 22.2 -> 22.2.2\n",
      "[notice] To update, run: python.exe -m pip install --upgrade pip\n"
     ]
    }
   ],
   "source": [
    "pip install pycountry_convert"
   ]
  },
  {
   "cell_type": "code",
   "execution_count": 16,
   "metadata": {},
   "outputs": [],
   "source": [
    "import pycountry_convert as pc"
   ]
  },
  {
   "cell_type": "code",
   "execution_count": 17,
   "metadata": {},
   "outputs": [
    {
     "ename": "KeyError",
     "evalue": "\"Invalid Country Name: 'Belgium-Luxembourg'\"",
     "output_type": "error",
     "traceback": [
      "\u001b[1;31m---------------------------------------------------------------------------\u001b[0m",
      "\u001b[1;31mKeyError\u001b[0m                                  Traceback (most recent call last)",
      "\u001b[1;32mc:\\Users\\karar\\Desktop\\python_project\\unlock_z_final\\HP-Z-UNFOLD\\eda_fires_data.ipynb Cell 21\u001b[0m in \u001b[0;36m<cell line: 2>\u001b[1;34m()\u001b[0m\n\u001b[0;32m      <a href='vscode-notebook-cell:/c%3A/Users/karar/Desktop/python_project/unlock_z_final/HP-Z-UNFOLD/eda_fires_data.ipynb#X26sZmlsZQ%3D%3D?line=0'>1</a>\u001b[0m f \u001b[39m=\u001b[39m \u001b[39mlambda\u001b[39;00m x: pc\u001b[39m.\u001b[39mcountry_name_to_country_alpha2(x, cn_name_format\u001b[39m=\u001b[39m\u001b[39m\"\u001b[39m\u001b[39mdefault\u001b[39m\u001b[39m\"\u001b[39m)\n\u001b[1;32m----> <a href='vscode-notebook-cell:/c%3A/Users/karar/Desktop/python_project/unlock_z_final/HP-Z-UNFOLD/eda_fires_data.ipynb#X26sZmlsZQ%3D%3D?line=1'>2</a>\u001b[0m new_fires_df[\u001b[39m'\u001b[39m\u001b[39mArea_code\u001b[39m\u001b[39m'\u001b[39m] \u001b[39m=\u001b[39m new_fires_df[\u001b[39m'\u001b[39;49m\u001b[39mArea\u001b[39;49m\u001b[39m'\u001b[39;49m]\u001b[39m.\u001b[39;49mapply(f)\n",
      "File \u001b[1;32mc:\\Users\\karar\\AppData\\Local\\Programs\\Python\\Python310\\lib\\site-packages\\pandas\\core\\series.py:4433\u001b[0m, in \u001b[0;36mSeries.apply\u001b[1;34m(self, func, convert_dtype, args, **kwargs)\u001b[0m\n\u001b[0;32m   4323\u001b[0m \u001b[39mdef\u001b[39;00m \u001b[39mapply\u001b[39m(\n\u001b[0;32m   4324\u001b[0m     \u001b[39mself\u001b[39m,\n\u001b[0;32m   4325\u001b[0m     func: AggFuncType,\n\u001b[1;32m   (...)\u001b[0m\n\u001b[0;32m   4328\u001b[0m     \u001b[39m*\u001b[39m\u001b[39m*\u001b[39mkwargs,\n\u001b[0;32m   4329\u001b[0m ) \u001b[39m-\u001b[39m\u001b[39m>\u001b[39m DataFrame \u001b[39m|\u001b[39m Series:\n\u001b[0;32m   4330\u001b[0m     \u001b[39m\"\"\"\u001b[39;00m\n\u001b[0;32m   4331\u001b[0m \u001b[39m    Invoke function on values of Series.\u001b[39;00m\n\u001b[0;32m   4332\u001b[0m \n\u001b[1;32m   (...)\u001b[0m\n\u001b[0;32m   4431\u001b[0m \u001b[39m    dtype: float64\u001b[39;00m\n\u001b[0;32m   4432\u001b[0m \u001b[39m    \"\"\"\u001b[39;00m\n\u001b[1;32m-> 4433\u001b[0m     \u001b[39mreturn\u001b[39;00m SeriesApply(\u001b[39mself\u001b[39;49m, func, convert_dtype, args, kwargs)\u001b[39m.\u001b[39;49mapply()\n",
      "File \u001b[1;32mc:\\Users\\karar\\AppData\\Local\\Programs\\Python\\Python310\\lib\\site-packages\\pandas\\core\\apply.py:1088\u001b[0m, in \u001b[0;36mSeriesApply.apply\u001b[1;34m(self)\u001b[0m\n\u001b[0;32m   1084\u001b[0m \u001b[39mif\u001b[39;00m \u001b[39misinstance\u001b[39m(\u001b[39mself\u001b[39m\u001b[39m.\u001b[39mf, \u001b[39mstr\u001b[39m):\n\u001b[0;32m   1085\u001b[0m     \u001b[39m# if we are a string, try to dispatch\u001b[39;00m\n\u001b[0;32m   1086\u001b[0m     \u001b[39mreturn\u001b[39;00m \u001b[39mself\u001b[39m\u001b[39m.\u001b[39mapply_str()\n\u001b[1;32m-> 1088\u001b[0m \u001b[39mreturn\u001b[39;00m \u001b[39mself\u001b[39;49m\u001b[39m.\u001b[39;49mapply_standard()\n",
      "File \u001b[1;32mc:\\Users\\karar\\AppData\\Local\\Programs\\Python\\Python310\\lib\\site-packages\\pandas\\core\\apply.py:1143\u001b[0m, in \u001b[0;36mSeriesApply.apply_standard\u001b[1;34m(self)\u001b[0m\n\u001b[0;32m   1137\u001b[0m         values \u001b[39m=\u001b[39m obj\u001b[39m.\u001b[39mastype(\u001b[39mobject\u001b[39m)\u001b[39m.\u001b[39m_values\n\u001b[0;32m   1138\u001b[0m         \u001b[39m# error: Argument 2 to \"map_infer\" has incompatible type\u001b[39;00m\n\u001b[0;32m   1139\u001b[0m         \u001b[39m# \"Union[Callable[..., Any], str, List[Union[Callable[..., Any], str]],\u001b[39;00m\n\u001b[0;32m   1140\u001b[0m         \u001b[39m# Dict[Hashable, Union[Union[Callable[..., Any], str],\u001b[39;00m\n\u001b[0;32m   1141\u001b[0m         \u001b[39m# List[Union[Callable[..., Any], str]]]]]\"; expected\u001b[39;00m\n\u001b[0;32m   1142\u001b[0m         \u001b[39m# \"Callable[[Any], Any]\"\u001b[39;00m\n\u001b[1;32m-> 1143\u001b[0m         mapped \u001b[39m=\u001b[39m lib\u001b[39m.\u001b[39;49mmap_infer(\n\u001b[0;32m   1144\u001b[0m             values,\n\u001b[0;32m   1145\u001b[0m             f,  \u001b[39m# type: ignore[arg-type]\u001b[39;49;00m\n\u001b[0;32m   1146\u001b[0m             convert\u001b[39m=\u001b[39;49m\u001b[39mself\u001b[39;49m\u001b[39m.\u001b[39;49mconvert_dtype,\n\u001b[0;32m   1147\u001b[0m         )\n\u001b[0;32m   1149\u001b[0m \u001b[39mif\u001b[39;00m \u001b[39mlen\u001b[39m(mapped) \u001b[39mand\u001b[39;00m \u001b[39misinstance\u001b[39m(mapped[\u001b[39m0\u001b[39m], ABCSeries):\n\u001b[0;32m   1150\u001b[0m     \u001b[39m# GH#43986 Need to do list(mapped) in order to get treated as nested\u001b[39;00m\n\u001b[0;32m   1151\u001b[0m     \u001b[39m#  See also GH#25959 regarding EA support\u001b[39;00m\n\u001b[0;32m   1152\u001b[0m     \u001b[39mreturn\u001b[39;00m obj\u001b[39m.\u001b[39m_constructor_expanddim(\u001b[39mlist\u001b[39m(mapped), index\u001b[39m=\u001b[39mobj\u001b[39m.\u001b[39mindex)\n",
      "File \u001b[1;32mc:\\Users\\karar\\AppData\\Local\\Programs\\Python\\Python310\\lib\\site-packages\\pandas\\_libs\\lib.pyx:2870\u001b[0m, in \u001b[0;36mpandas._libs.lib.map_infer\u001b[1;34m()\u001b[0m\n",
      "\u001b[1;32mc:\\Users\\karar\\Desktop\\python_project\\unlock_z_final\\HP-Z-UNFOLD\\eda_fires_data.ipynb Cell 21\u001b[0m in \u001b[0;36m<lambda>\u001b[1;34m(x)\u001b[0m\n\u001b[1;32m----> <a href='vscode-notebook-cell:/c%3A/Users/karar/Desktop/python_project/unlock_z_final/HP-Z-UNFOLD/eda_fires_data.ipynb#X26sZmlsZQ%3D%3D?line=0'>1</a>\u001b[0m f \u001b[39m=\u001b[39m \u001b[39mlambda\u001b[39;00m x: pc\u001b[39m.\u001b[39;49mcountry_name_to_country_alpha2(x, cn_name_format\u001b[39m=\u001b[39;49m\u001b[39m\"\u001b[39;49m\u001b[39mdefault\u001b[39;49m\u001b[39m\"\u001b[39;49m)\n\u001b[0;32m      <a href='vscode-notebook-cell:/c%3A/Users/karar/Desktop/python_project/unlock_z_final/HP-Z-UNFOLD/eda_fires_data.ipynb#X26sZmlsZQ%3D%3D?line=1'>2</a>\u001b[0m new_fires_df[\u001b[39m'\u001b[39m\u001b[39mArea_code\u001b[39m\u001b[39m'\u001b[39m] \u001b[39m=\u001b[39m new_fires_df[\u001b[39m'\u001b[39m\u001b[39mArea\u001b[39m\u001b[39m'\u001b[39m]\u001b[39m.\u001b[39mapply(f)\n",
      "File \u001b[1;32mc:\\Users\\karar\\AppData\\Local\\Programs\\Python\\Python310\\lib\\site-packages\\pycountry_convert\\convert_countries.py:71\u001b[0m, in \u001b[0;36mcountry_name_to_country_alpha2\u001b[1;34m(cn_name, cn_name_format)\u001b[0m\n\u001b[0;32m     68\u001b[0m     \u001b[39mreturn\u001b[39;00m cn_name\n\u001b[0;32m     70\u001b[0m \u001b[39mif\u001b[39;00m cn_name \u001b[39mnot\u001b[39;00m \u001b[39min\u001b[39;00m dict_country_name_to_country_alpha2:\n\u001b[1;32m---> 71\u001b[0m     \u001b[39mraise\u001b[39;00m \u001b[39mKeyError\u001b[39;00m(\u001b[39m\"\u001b[39m\u001b[39mInvalid Country Name: \u001b[39m\u001b[39m'\u001b[39m\u001b[39m{0}\u001b[39;00m\u001b[39m'\u001b[39m\u001b[39m\"\u001b[39m\u001b[39m.\u001b[39mformat(cn_name))\n\u001b[0;32m     73\u001b[0m \u001b[39mreturn\u001b[39;00m dict_country_name_to_country_alpha2[cn_name]\n",
      "\u001b[1;31mKeyError\u001b[0m: \"Invalid Country Name: 'Belgium-Luxembourg'\""
     ]
    }
   ],
   "source": [
    "f = lambda x: pc.country_name_to_country_alpha2(x, cn_name_format=\"default\")\n",
    "new_fires_df['Area_code'] = new_fires_df['Area'].apply(f)"
   ]
  }
 ],
 "metadata": {
  "kernelspec": {
   "display_name": "Python 3.10.5 64-bit",
   "language": "python",
   "name": "python3"
  },
  "language_info": {
   "codemirror_mode": {
    "name": "ipython",
    "version": 3
   },
   "file_extension": ".py",
   "mimetype": "text/x-python",
   "name": "python",
   "nbconvert_exporter": "python",
   "pygments_lexer": "ipython3",
   "version": "3.10.5"
  },
  "orig_nbformat": 4,
  "vscode": {
   "interpreter": {
    "hash": "2bea1e3ce8ade833f4ca8ac47a81575824f502afdec82e06697e93126290b0e4"
   }
  }
 },
 "nbformat": 4,
 "nbformat_minor": 2
}
