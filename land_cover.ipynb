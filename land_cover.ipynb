{
 "cells": [
  {
   "cell_type": "markdown",
   "metadata": {},
   "source": [
    "### EDA Analysis of HPZ-competition-Land Cover Data\n"
   ]
  },
  {
   "cell_type": "markdown",
   "metadata": {},
   "source": [
    "# Abstract:\n",
    "> This Land cover data set is based on "
   ]
  },
  {
   "cell_type": "markdown",
   "metadata": {},
   "source": [
    "# **Data Peprocessing**"
   ]
  },
  {
   "cell_type": "markdown",
   "metadata": {},
   "source": [
    "#### **Step 1: Import Libraries and Check the data shape**"
   ]
  },
  {
   "cell_type": "code",
   "execution_count": 13,
   "metadata": {},
   "outputs": [],
   "source": [
    "import numpy as np\n",
    "import pandas as pd\n",
    "import seaborn as sns\n",
    "import matplotlib.pyplot as plt\n",
    "import seaborn as sns\n",
    "import matplotlib.ticker as ticker"
   ]
  },
  {
   "cell_type": "code",
   "execution_count": 14,
   "metadata": {},
   "outputs": [
    {
     "data": {
      "text/html": [
       "<div>\n",
       "<style scoped>\n",
       "    .dataframe tbody tr th:only-of-type {\n",
       "        vertical-align: middle;\n",
       "    }\n",
       "\n",
       "    .dataframe tbody tr th {\n",
       "        vertical-align: top;\n",
       "    }\n",
       "\n",
       "    .dataframe thead th {\n",
       "        text-align: right;\n",
       "    }\n",
       "</style>\n",
       "<table border=\"1\" class=\"dataframe\">\n",
       "  <thead>\n",
       "    <tr style=\"text-align: right;\">\n",
       "      <th></th>\n",
       "      <th>Domain Code</th>\n",
       "      <th>Domain</th>\n",
       "      <th>Area Code (ISO3)</th>\n",
       "      <th>Area</th>\n",
       "      <th>Element Code</th>\n",
       "      <th>Element</th>\n",
       "      <th>Item Code</th>\n",
       "      <th>Item</th>\n",
       "      <th>Year Code</th>\n",
       "      <th>Year</th>\n",
       "      <th>Unit</th>\n",
       "      <th>Value</th>\n",
       "      <th>Flag</th>\n",
       "      <th>Flag Description</th>\n",
       "    </tr>\n",
       "  </thead>\n",
       "  <tbody>\n",
       "    <tr>\n",
       "      <th>0</th>\n",
       "      <td>LC</td>\n",
       "      <td>Land Cover</td>\n",
       "      <td>AFG</td>\n",
       "      <td>Afghanistan</td>\n",
       "      <td>5007</td>\n",
       "      <td>Area from MODIS</td>\n",
       "      <td>6970</td>\n",
       "      <td>Artificial surfaces (including urban and assoc...</td>\n",
       "      <td>2001</td>\n",
       "      <td>2001</td>\n",
       "      <td>1000 ha</td>\n",
       "      <td>88.1603</td>\n",
       "      <td>FC</td>\n",
       "      <td>Calculated data</td>\n",
       "    </tr>\n",
       "    <tr>\n",
       "      <th>1</th>\n",
       "      <td>LC</td>\n",
       "      <td>Land Cover</td>\n",
       "      <td>AFG</td>\n",
       "      <td>Afghanistan</td>\n",
       "      <td>5007</td>\n",
       "      <td>Area from MODIS</td>\n",
       "      <td>6970</td>\n",
       "      <td>Artificial surfaces (including urban and assoc...</td>\n",
       "      <td>2002</td>\n",
       "      <td>2002</td>\n",
       "      <td>1000 ha</td>\n",
       "      <td>88.1818</td>\n",
       "      <td>FC</td>\n",
       "      <td>Calculated data</td>\n",
       "    </tr>\n",
       "    <tr>\n",
       "      <th>2</th>\n",
       "      <td>LC</td>\n",
       "      <td>Land Cover</td>\n",
       "      <td>AFG</td>\n",
       "      <td>Afghanistan</td>\n",
       "      <td>5007</td>\n",
       "      <td>Area from MODIS</td>\n",
       "      <td>6970</td>\n",
       "      <td>Artificial surfaces (including urban and assoc...</td>\n",
       "      <td>2003</td>\n",
       "      <td>2003</td>\n",
       "      <td>1000 ha</td>\n",
       "      <td>88.2247</td>\n",
       "      <td>FC</td>\n",
       "      <td>Calculated data</td>\n",
       "    </tr>\n",
       "    <tr>\n",
       "      <th>3</th>\n",
       "      <td>LC</td>\n",
       "      <td>Land Cover</td>\n",
       "      <td>AFG</td>\n",
       "      <td>Afghanistan</td>\n",
       "      <td>5007</td>\n",
       "      <td>Area from MODIS</td>\n",
       "      <td>6970</td>\n",
       "      <td>Artificial surfaces (including urban and assoc...</td>\n",
       "      <td>2004</td>\n",
       "      <td>2004</td>\n",
       "      <td>1000 ha</td>\n",
       "      <td>88.2462</td>\n",
       "      <td>FC</td>\n",
       "      <td>Calculated data</td>\n",
       "    </tr>\n",
       "    <tr>\n",
       "      <th>4</th>\n",
       "      <td>LC</td>\n",
       "      <td>Land Cover</td>\n",
       "      <td>AFG</td>\n",
       "      <td>Afghanistan</td>\n",
       "      <td>5007</td>\n",
       "      <td>Area from MODIS</td>\n",
       "      <td>6970</td>\n",
       "      <td>Artificial surfaces (including urban and assoc...</td>\n",
       "      <td>2005</td>\n",
       "      <td>2005</td>\n",
       "      <td>1000 ha</td>\n",
       "      <td>88.3106</td>\n",
       "      <td>FC</td>\n",
       "      <td>Calculated data</td>\n",
       "    </tr>\n",
       "  </tbody>\n",
       "</table>\n",
       "</div>"
      ],
      "text/plain": [
       "  Domain Code      Domain Area Code (ISO3)         Area  Element Code  \\\n",
       "0          LC  Land Cover              AFG  Afghanistan          5007   \n",
       "1          LC  Land Cover              AFG  Afghanistan          5007   \n",
       "2          LC  Land Cover              AFG  Afghanistan          5007   \n",
       "3          LC  Land Cover              AFG  Afghanistan          5007   \n",
       "4          LC  Land Cover              AFG  Afghanistan          5007   \n",
       "\n",
       "           Element  Item Code  \\\n",
       "0  Area from MODIS       6970   \n",
       "1  Area from MODIS       6970   \n",
       "2  Area from MODIS       6970   \n",
       "3  Area from MODIS       6970   \n",
       "4  Area from MODIS       6970   \n",
       "\n",
       "                                                Item  Year Code  Year  \\\n",
       "0  Artificial surfaces (including urban and assoc...       2001  2001   \n",
       "1  Artificial surfaces (including urban and assoc...       2002  2002   \n",
       "2  Artificial surfaces (including urban and assoc...       2003  2003   \n",
       "3  Artificial surfaces (including urban and assoc...       2004  2004   \n",
       "4  Artificial surfaces (including urban and assoc...       2005  2005   \n",
       "\n",
       "      Unit    Value Flag Flag Description  \n",
       "0  1000 ha  88.1603   FC  Calculated data  \n",
       "1  1000 ha  88.1818   FC  Calculated data  \n",
       "2  1000 ha  88.2247   FC  Calculated data  \n",
       "3  1000 ha  88.2462   FC  Calculated data  \n",
       "4  1000 ha  88.3106   FC  Calculated data  "
      ]
     },
     "execution_count": 14,
     "metadata": {},
     "output_type": "execute_result"
    }
   ],
   "source": [
    "# Open file\n",
    "df=pd.read_csv('land_cover_data_11-30-2021.csv')\n",
    "df.head()"
   ]
  },
  {
   "cell_type": "code",
   "execution_count": 15,
   "metadata": {},
   "outputs": [
    {
     "name": "stdout",
     "output_type": "stream",
     "text": [
      "number of columns:  14\n",
      "number of rows:  60760\n"
     ]
    }
   ],
   "source": [
    "#find shape\n",
    "rows,columns=df.shape\n",
    "print(\"number of columns: \",columns)    \n",
    "print(\"number of rows: \",rows)"
   ]
  },
  {
   "cell_type": "markdown",
   "metadata": {},
   "source": [
    "#### **Step 2: Check the Data Strucutre of each Column** "
   ]
  },
  {
   "cell_type": "code",
   "execution_count": 16,
   "metadata": {},
   "outputs": [
    {
     "name": "stdout",
     "output_type": "stream",
     "text": [
      "<class 'pandas.core.frame.DataFrame'>\n",
      "RangeIndex: 60760 entries, 0 to 60759\n",
      "Data columns (total 14 columns):\n",
      " #   Column            Non-Null Count  Dtype  \n",
      "---  ------            --------------  -----  \n",
      " 0   Domain Code       60760 non-null  object \n",
      " 1   Domain            60760 non-null  object \n",
      " 2   Area Code (ISO3)  60760 non-null  object \n",
      " 3   Area              60760 non-null  object \n",
      " 4   Element Code      60760 non-null  int64  \n",
      " 5   Element           60760 non-null  object \n",
      " 6   Item Code         60760 non-null  int64  \n",
      " 7   Item              60760 non-null  object \n",
      " 8   Year Code         60760 non-null  int64  \n",
      " 9   Year              60760 non-null  int64  \n",
      " 10  Unit              60760 non-null  object \n",
      " 11  Value             43400 non-null  float64\n",
      " 12  Flag              60760 non-null  object \n",
      " 13  Flag Description  60760 non-null  object \n",
      "dtypes: float64(1), int64(4), object(9)\n",
      "memory usage: 6.5+ MB\n"
     ]
    }
   ],
   "source": [
    "df.info()"
   ]
  },
  {
   "cell_type": "markdown",
   "metadata": {},
   "source": [
    "#### **Step 3: Deal With Missing Values**"
   ]
  },
  {
   "cell_type": "code",
   "execution_count": 17,
   "metadata": {},
   "outputs": [
    {
     "data": {
      "text/plain": [
       "Domain Code             0\n",
       "Domain                  0\n",
       "Area Code (ISO3)        0\n",
       "Area                    0\n",
       "Element Code            0\n",
       "Element                 0\n",
       "Item Code               0\n",
       "Item                    0\n",
       "Year Code               0\n",
       "Year                    0\n",
       "Unit                    0\n",
       "Value               17360\n",
       "Flag                    0\n",
       "Flag Description        0\n",
       "dtype: int64"
      ]
     },
     "execution_count": 17,
     "metadata": {},
     "output_type": "execute_result"
    }
   ],
   "source": [
    "#check missing values\n",
    "df.isnull().sum()"
   ]
  },
  {
   "cell_type": "code",
   "execution_count": 18,
   "metadata": {},
   "outputs": [
    {
     "data": {
      "text/plain": [
       "Domain Code          0.000000\n",
       "Domain               0.000000\n",
       "Area Code (ISO3)     0.000000\n",
       "Area                 0.000000\n",
       "Element Code         0.000000\n",
       "Element              0.000000\n",
       "Item Code            0.000000\n",
       "Item                 0.000000\n",
       "Year Code            0.000000\n",
       "Year                 0.000000\n",
       "Unit                 0.000000\n",
       "Value               28.571429\n",
       "Flag                 0.000000\n",
       "Flag Description     0.000000\n",
       "dtype: float64"
      ]
     },
     "execution_count": 18,
     "metadata": {},
     "output_type": "execute_result"
    }
   ],
   "source": [
    "#percentage of missing values\n",
    "df.isnull().sum()/df.shape[0]*100"
   ]
  },
  {
   "cell_type": "markdown",
   "metadata": {},
   "source": [
    "> **Information obtained from step 3**\n",
    "> - No Column has missing values except Value column\n",
    ">   \n",
    "> - Missing values in Value column account for 28%\n",
    "> \n",
    "> - Now we are going to remove na values"
   ]
  },
  {
   "cell_type": "markdown",
   "metadata": {},
   "source": [
    "##### **Step 3(b) Removing Na values**"
   ]
  },
  {
   "cell_type": "code",
   "execution_count": 19,
   "metadata": {},
   "outputs": [],
   "source": [
    "# Deal with missing values-Dropping not available data\n",
    "# df_new.drop(df_new.index[df_new['Flag'] == 'NV'], inplace=True)\n",
    "df.dropna(inplace=True)\n",
    "\n"
   ]
  },
  {
   "cell_type": "code",
   "execution_count": 20,
   "metadata": {},
   "outputs": [
    {
     "data": {
      "text/plain": [
       "Domain Code         0.0\n",
       "Domain              0.0\n",
       "Area Code (ISO3)    0.0\n",
       "Area                0.0\n",
       "Element Code        0.0\n",
       "Element             0.0\n",
       "Item Code           0.0\n",
       "Item                0.0\n",
       "Year Code           0.0\n",
       "Year                0.0\n",
       "Unit                0.0\n",
       "Value               0.0\n",
       "Flag                0.0\n",
       "Flag Description    0.0\n",
       "dtype: float64"
      ]
     },
     "execution_count": 20,
     "metadata": {},
     "output_type": "execute_result"
    }
   ],
   "source": [
    "#percentage of missing values\n",
    "df.isnull().sum()/df.shape[0]*100"
   ]
  },
  {
   "cell_type": "markdown",
   "metadata": {},
   "source": [
    "> **Information obtained from step 3(b)**\n",
    "> - No Column has missing values Now\n",
    ">   \n",
    "> - Now we are going to get the summary of data"
   ]
  },
  {
   "cell_type": "markdown",
   "metadata": {},
   "source": [
    "### **Step 4:Make new Column of Continent**"
   ]
  },
  {
   "cell_type": "code",
   "execution_count": 26,
   "metadata": {},
   "outputs": [],
   "source": [
    "#Adding a new column of Continent \n",
    "#pip install pycountry_convert\n",
    "# # #Making new columns of Continent for Visualization\n",
    "\n",
    "import pycountry_convert as pc\n",
    "def country_to_continent(country_name):\n",
    "    country_alpha2 = pc.country_name_to_country_alpha2(country_name)\n",
    "    country_continent_code = pc.country_alpha2_to_continent_code(country_alpha2)\n",
    "    country_continent_name = pc.convert_continent_code_to_continent_name(country_continent_code)\n",
    "    return country_continent_name\n",
    "# Example\n",
    "# country_name = 'Chagos Archipelago'\n",
    "# print(country_to_continent(country_name))\n",
    "continent=[]\n",
    "for i in df['Area']:\n",
    "    \n",
    "   if i=='Chagos Archipelago':\n",
    "       continent.append('Africa')\n",
    "       \n",
    "   elif i=='Western Sahara':\n",
    "       continent.append('Africa')\n",
    "   elif i=='Channel Islands'  :\n",
    "       continent.append('Europe')\n",
    "   elif i=='China, Hong Kong SAR'  :\n",
    "       continent.append('Asia')\n",
    "   elif i=='China, Macao SAR'  :\n",
    "       continent.append('Asia')\n",
    "   elif i=='China, mainland'  :\n",
    "       continent.append('Asia')\n",
    "   elif i=='China, Taiwan Province of'  :\n",
    "       continent.append('Asia')\n",
    "   elif i=='French Guyana'  :\n",
    "       continent.append('South America')\n",
    "   elif i=='French Southern Territories'  :\n",
    "       continent.append('Antarctica')\n",
    "   elif i=='Heard and McDonald Islands'  :\n",
    "       continent.append('Antarctica')\n",
    "   elif i=='Holy See'  :\n",
    "       continent.append('Europe')\n",
    "   elif i=='Iran (Islamic Republic of)'  :\n",
    "       continent.append('Europe')\n",
    "   elif i=='Johnston Island'  :\n",
    "       continent.append('Oceania')\n",
    "   elif i=='Micronesia (Federated States of)'  :\n",
    "       continent.append('Oceania')\n",
    "   elif i=='Midway Island'  :\n",
    "       continent.append('North America')\n",
    "   elif i=='Netherlands Antilles (former)'  :\n",
    "       continent.append('Europe')\n",
    "   elif i=='Pitcairn'  :\n",
    "       continent.append('Oceania')\n",
    "   elif i=='Wake Island'  :\n",
    "       continent.append('Oceania')\n",
    "   elif i=='Wallis and Futuna Islands'  :\n",
    "       continent.append('Oceania')\n",
    "   elif i=='Republic of Korea'  :\n",
    "       continent.append('Asia')\n",
    "   elif i=='Serbia and Montenegro'  :\n",
    "       continent.append('Europe')\n",
    "   elif i=='Sudan (former)'  :\n",
    "       continent.append('Asia')\n",
    "   elif i=='Timor-Leste'  :\n",
    "       continent.append('Asia')\n",
    "   elif i=='Venezuela (Bolivarian Republic of)'  :\n",
    "       continent.append('South America')\n",
    "   elif i=='Antarctica' :\n",
    "       continent.append('Antarctica')\n",
    "   elif i=='Bolivia (Plurinational State of)' :\n",
    "       continent.append('South America')\n",
    "   else:\n",
    "      continent.append(country_to_continent(i))\n",
    "\n",
    "df[\"continent\"]=continent\n"
   ]
  },
  {
   "cell_type": "markdown",
   "metadata": {},
   "source": [
    "### **Step-5:Summary of Data**"
   ]
  },
  {
   "cell_type": "code",
   "execution_count": 27,
   "metadata": {},
   "outputs": [
    {
     "data": {
      "text/html": [
       "<div>\n",
       "<style scoped>\n",
       "    .dataframe tbody tr th:only-of-type {\n",
       "        vertical-align: middle;\n",
       "    }\n",
       "\n",
       "    .dataframe tbody tr th {\n",
       "        vertical-align: top;\n",
       "    }\n",
       "\n",
       "    .dataframe thead th {\n",
       "        text-align: right;\n",
       "    }\n",
       "</style>\n",
       "<table border=\"1\" class=\"dataframe\">\n",
       "  <thead>\n",
       "    <tr style=\"text-align: right;\">\n",
       "      <th></th>\n",
       "      <th>Item Code</th>\n",
       "      <th>Year Code</th>\n",
       "      <th>Year</th>\n",
       "      <th>Value</th>\n",
       "    </tr>\n",
       "  </thead>\n",
       "  <tbody>\n",
       "    <tr>\n",
       "      <th>count</th>\n",
       "      <td>43400.000000</td>\n",
       "      <td>43400.000000</td>\n",
       "      <td>43400.000000</td>\n",
       "      <td>43400.00000</td>\n",
       "    </tr>\n",
       "    <tr>\n",
       "      <th>mean</th>\n",
       "      <td>6976.600000</td>\n",
       "      <td>2009.517281</td>\n",
       "      <td>2009.517281</td>\n",
       "      <td>6387.39671</td>\n",
       "    </tr>\n",
       "    <tr>\n",
       "      <th>std</th>\n",
       "      <td>4.029935</td>\n",
       "      <td>5.187285</td>\n",
       "      <td>5.187285</td>\n",
       "      <td>40709.61358</td>\n",
       "    </tr>\n",
       "    <tr>\n",
       "      <th>min</th>\n",
       "      <td>6970.000000</td>\n",
       "      <td>2001.000000</td>\n",
       "      <td>2001.000000</td>\n",
       "      <td>0.00000</td>\n",
       "    </tr>\n",
       "    <tr>\n",
       "      <th>25%</th>\n",
       "      <td>6974.000000</td>\n",
       "      <td>2005.000000</td>\n",
       "      <td>2005.000000</td>\n",
       "      <td>0.00000</td>\n",
       "    </tr>\n",
       "    <tr>\n",
       "      <th>50%</th>\n",
       "      <td>6976.500000</td>\n",
       "      <td>2010.000000</td>\n",
       "      <td>2010.000000</td>\n",
       "      <td>12.93320</td>\n",
       "    </tr>\n",
       "    <tr>\n",
       "      <th>75%</th>\n",
       "      <td>6980.000000</td>\n",
       "      <td>2014.000000</td>\n",
       "      <td>2014.000000</td>\n",
       "      <td>464.09740</td>\n",
       "    </tr>\n",
       "    <tr>\n",
       "      <th>max</th>\n",
       "      <td>6983.000000</td>\n",
       "      <td>2018.000000</td>\n",
       "      <td>2018.000000</td>\n",
       "      <td>982529.43280</td>\n",
       "    </tr>\n",
       "  </tbody>\n",
       "</table>\n",
       "</div>"
      ],
      "text/plain": [
       "          Item Code     Year Code          Year         Value\n",
       "count  43400.000000  43400.000000  43400.000000   43400.00000\n",
       "mean    6976.600000   2009.517281   2009.517281    6387.39671\n",
       "std        4.029935      5.187285      5.187285   40709.61358\n",
       "min     6970.000000   2001.000000   2001.000000       0.00000\n",
       "25%     6974.000000   2005.000000   2005.000000       0.00000\n",
       "50%     6976.500000   2010.000000   2010.000000      12.93320\n",
       "75%     6980.000000   2014.000000   2014.000000     464.09740\n",
       "max     6983.000000   2018.000000   2018.000000  982529.43280"
      ]
     },
     "execution_count": 27,
     "metadata": {},
     "output_type": "execute_result"
    }
   ],
   "source": [
    "df.describe()"
   ]
  },
  {
   "cell_type": "code",
   "execution_count": null,
   "metadata": {},
   "outputs": [
    {
     "name": "stdout",
     "output_type": "stream",
     "text": [
      "Area Code (ISO3) : 244\n",
      "Area : 244\n",
      "Item Code : 10\n",
      "Item : 10\n",
      "Year Code : 18\n",
      "Year : 18\n",
      "Value : 18960\n",
      "Flag : 2\n",
      "Flag Description : 2\n",
      "continent : 7\n"
     ]
    }
   ],
   "source": [
    "#get unique values count for each column\n",
    "c=list(df.columns.values)\n",
    "for i in c:\n",
    "  print( i,\":\", df[ i ].nunique())\n"
   ]
  },
  {
   "cell_type": "code",
   "execution_count": 28,
   "metadata": {},
   "outputs": [
    {
     "data": {
      "text/plain": [
       "Area                         Item Code  Item                                                        Year Code  Year  Value       continent \n",
       "Afghanistan                  6970       Artificial surfaces (including urban and associated areas)  2001       2001  88.1603     Asia          1\n",
       "North Macedonia              6970       Artificial surfaces (including urban and associated areas)  2007       2007  34.5815     Europe        1\n",
       "Norfolk Island               6983       Grassland                                                   2017       2017  0.0000      Oceania       1\n",
       "                                                                                                    2018       2018  0.0000      Oceania       1\n",
       "North Macedonia              6970       Artificial surfaces (including urban and associated areas)  2001       2001  34.5600     Europe        1\n",
       "                                                                                                                                              ..\n",
       "French Southern Territories  6975       Mangroves                                                   2015       2015  0.0000      Antarctica    1\n",
       "                                                                                                    2016       2016  0.0000      Antarctica    1\n",
       "                                                                                                    2017       2017  0.0000      Antarctica    1\n",
       "                                                                                                    2018       2018  0.0000      Antarctica    1\n",
       "Zimbabwe                     6983       Grassland                                                   2018       2018  29511.1800  Africa        1\n",
       "Length: 43400, dtype: int64"
      ]
     },
     "execution_count": 28,
     "metadata": {},
     "output_type": "execute_result"
    }
   ],
   "source": [
    "#checking the number of values in columns \n",
    "df.value_counts()"
   ]
  },
  {
   "cell_type": "code",
   "execution_count": 24,
   "metadata": {},
   "outputs": [
    {
     "data": {
      "text/html": [
       "<div>\n",
       "<style scoped>\n",
       "    .dataframe tbody tr th:only-of-type {\n",
       "        vertical-align: middle;\n",
       "    }\n",
       "\n",
       "    .dataframe tbody tr th {\n",
       "        vertical-align: top;\n",
       "    }\n",
       "\n",
       "    .dataframe thead th {\n",
       "        text-align: right;\n",
       "    }\n",
       "</style>\n",
       "<table border=\"1\" class=\"dataframe\">\n",
       "  <thead>\n",
       "    <tr style=\"text-align: right;\">\n",
       "      <th></th>\n",
       "      <th>Area Code (ISO3)</th>\n",
       "      <th>Area</th>\n",
       "      <th>Item Code</th>\n",
       "      <th>Item</th>\n",
       "      <th>Year Code</th>\n",
       "      <th>Year</th>\n",
       "      <th>Value</th>\n",
       "      <th>Flag</th>\n",
       "      <th>Flag Description</th>\n",
       "      <th>continent</th>\n",
       "    </tr>\n",
       "  </thead>\n",
       "  <tbody>\n",
       "    <tr>\n",
       "      <th>0</th>\n",
       "      <td>AFG</td>\n",
       "      <td>Afghanistan</td>\n",
       "      <td>6970</td>\n",
       "      <td>Artificial surfaces (including urban and assoc...</td>\n",
       "      <td>2001</td>\n",
       "      <td>2001</td>\n",
       "      <td>88.1603</td>\n",
       "      <td>FC</td>\n",
       "      <td>Calculated data</td>\n",
       "      <td>Asia</td>\n",
       "    </tr>\n",
       "    <tr>\n",
       "      <th>1</th>\n",
       "      <td>AFG</td>\n",
       "      <td>Afghanistan</td>\n",
       "      <td>6970</td>\n",
       "      <td>Artificial surfaces (including urban and assoc...</td>\n",
       "      <td>2002</td>\n",
       "      <td>2002</td>\n",
       "      <td>88.1818</td>\n",
       "      <td>FC</td>\n",
       "      <td>Calculated data</td>\n",
       "      <td>Asia</td>\n",
       "    </tr>\n",
       "    <tr>\n",
       "      <th>2</th>\n",
       "      <td>AFG</td>\n",
       "      <td>Afghanistan</td>\n",
       "      <td>6970</td>\n",
       "      <td>Artificial surfaces (including urban and assoc...</td>\n",
       "      <td>2003</td>\n",
       "      <td>2003</td>\n",
       "      <td>88.2247</td>\n",
       "      <td>FC</td>\n",
       "      <td>Calculated data</td>\n",
       "      <td>Asia</td>\n",
       "    </tr>\n",
       "    <tr>\n",
       "      <th>3</th>\n",
       "      <td>AFG</td>\n",
       "      <td>Afghanistan</td>\n",
       "      <td>6970</td>\n",
       "      <td>Artificial surfaces (including urban and assoc...</td>\n",
       "      <td>2004</td>\n",
       "      <td>2004</td>\n",
       "      <td>88.2462</td>\n",
       "      <td>FC</td>\n",
       "      <td>Calculated data</td>\n",
       "      <td>Asia</td>\n",
       "    </tr>\n",
       "    <tr>\n",
       "      <th>4</th>\n",
       "      <td>AFG</td>\n",
       "      <td>Afghanistan</td>\n",
       "      <td>6970</td>\n",
       "      <td>Artificial surfaces (including urban and assoc...</td>\n",
       "      <td>2005</td>\n",
       "      <td>2005</td>\n",
       "      <td>88.3106</td>\n",
       "      <td>FC</td>\n",
       "      <td>Calculated data</td>\n",
       "      <td>Asia</td>\n",
       "    </tr>\n",
       "  </tbody>\n",
       "</table>\n",
       "</div>"
      ],
      "text/plain": [
       "  Area Code (ISO3)         Area  Item Code  \\\n",
       "0              AFG  Afghanistan       6970   \n",
       "1              AFG  Afghanistan       6970   \n",
       "2              AFG  Afghanistan       6970   \n",
       "3              AFG  Afghanistan       6970   \n",
       "4              AFG  Afghanistan       6970   \n",
       "\n",
       "                                                Item  Year Code  Year  \\\n",
       "0  Artificial surfaces (including urban and assoc...       2001  2001   \n",
       "1  Artificial surfaces (including urban and assoc...       2002  2002   \n",
       "2  Artificial surfaces (including urban and assoc...       2003  2003   \n",
       "3  Artificial surfaces (including urban and assoc...       2004  2004   \n",
       "4  Artificial surfaces (including urban and assoc...       2005  2005   \n",
       "\n",
       "     Value Flag Flag Description continent  \n",
       "0  88.1603   FC  Calculated data      Asia  \n",
       "1  88.1818   FC  Calculated data      Asia  \n",
       "2  88.2247   FC  Calculated data      Asia  \n",
       "3  88.2462   FC  Calculated data      Asia  \n",
       "4  88.3106   FC  Calculated data      Asia  "
      ]
     },
     "execution_count": 24,
     "metadata": {},
     "output_type": "execute_result"
    }
   ],
   "source": [
    "df.head()"
   ]
  },
  {
   "cell_type": "code",
   "execution_count": 25,
   "metadata": {},
   "outputs": [],
   "source": [
    "#create a new data frame with selected columns\n",
    "# Domain code,Domain,element code,element, unit are left because have only 1 value\n",
    "df=df[['Area','Item Code','Item','Year Code','Year','Value','continent']]"
   ]
  },
  {
   "cell_type": "code",
   "execution_count": 29,
   "metadata": {},
   "outputs": [
    {
     "data": {
      "text/plain": [
       "Africa           10420\n",
       "Asia              9270\n",
       "Europe            8950\n",
       "North America     6660\n",
       "Oceania           4860\n",
       "South America     2700\n",
       "Antarctica         540\n",
       "Name: continent, dtype: int64"
      ]
     },
     "execution_count": 29,
     "metadata": {},
     "output_type": "execute_result"
    }
   ],
   "source": [
    "df['continent'].value_counts()"
   ]
  },
  {
   "cell_type": "code",
   "execution_count": 30,
   "metadata": {},
   "outputs": [],
   "source": [
    "#Create dataframe based on continents\n",
    "df_a=df.loc[df['continent']=='Asia']\n",
    "df_e=df.loc[df['continent']=='Europe']\n",
    "df_an=df.loc[df['continent']=='Antarctica']\n",
    "df_aus=df.loc[df['continent']=='Australia']\n",
    "df_o=df.loc[df['continent']=='Oceania']\n",
    "df_s=df.loc[df['continent']=='South America']\n",
    "df_an=df.loc[df['continent']=='North America']"
   ]
  },
  {
   "cell_type": "code",
   "execution_count": 31,
   "metadata": {},
   "outputs": [
    {
     "data": {
      "text/plain": [
       "Artificial surfaces (including urban and associated areas)           4340\n",
       "Herbaceous crops                                                     4340\n",
       "Grassland                                                            4340\n",
       "Tree-covered areas                                                   4340\n",
       "Mangroves                                                            4340\n",
       "Shrub-covered areas                                                  4340\n",
       "Shrubs and/or herbaceous vegetation, aquatic or regularly flooded    4340\n",
       "Terrestrial barren land                                              4340\n",
       "Permanent snow and glaciers                                          4340\n",
       "Inland water bodies                                                  4340\n",
       "Name: Item, dtype: int64"
      ]
     },
     "execution_count": 31,
     "metadata": {},
     "output_type": "execute_result"
    }
   ],
   "source": [
    "df['Item'].value_counts()"
   ]
  },
  {
   "cell_type": "code",
   "execution_count": 33,
   "metadata": {},
   "outputs": [],
   "source": [
    "#create dataframebased on item\n",
    "Artif=df.loc[df['Item']== 'Artificial surfaces (including urban and associated areas)' ]\n",
    "Grass=df.loc[df['Item']== 'Grassland']\n",
    "Tree=df.loc[df['Item']== 'Tree-covered areas']\n",
    "shrub=df.loc[df['Item']== 'Shrub-covered areas']\n",
    "flooded=df.loc[df['Item']== 'Shrubs and/or herbaceous vegetation, aquatic or regularly flooded']\n",
    "terrestrial=df.loc[df['Item']== 'Terrestrial barren land']\n",
    "snow=df.loc[df['Item']== 'Permanent snow and glaciers']\n",
    "inland=df.loc[df['Item']== 'Inland water bodies']"
   ]
  },
  {
   "cell_type": "markdown",
   "metadata": {},
   "source": [
    "# Data Visualization"
   ]
  },
  {
   "cell_type": "markdown",
   "metadata": {},
   "source": [
    "### Top 30 Countries in world with maximum Tree covered Area"
   ]
  },
  {
   "cell_type": "code",
   "execution_count": 34,
   "metadata": {},
   "outputs": [
    {
     "data": {
      "text/html": [
       "<div>\n",
       "<style scoped>\n",
       "    .dataframe tbody tr th:only-of-type {\n",
       "        vertical-align: middle;\n",
       "    }\n",
       "\n",
       "    .dataframe tbody tr th {\n",
       "        vertical-align: top;\n",
       "    }\n",
       "\n",
       "    .dataframe thead th {\n",
       "        text-align: right;\n",
       "    }\n",
       "</style>\n",
       "<table border=\"1\" class=\"dataframe\">\n",
       "  <thead>\n",
       "    <tr style=\"text-align: right;\">\n",
       "      <th></th>\n",
       "      <th>Area</th>\n",
       "      <th>Item Code</th>\n",
       "      <th>Item</th>\n",
       "      <th>Year Code</th>\n",
       "      <th>Year</th>\n",
       "      <th>Value</th>\n",
       "      <th>continent</th>\n",
       "    </tr>\n",
       "  </thead>\n",
       "  <tbody>\n",
       "    <tr>\n",
       "      <th>90</th>\n",
       "      <td>Afghanistan</td>\n",
       "      <td>6974</td>\n",
       "      <td>Tree-covered areas</td>\n",
       "      <td>2001</td>\n",
       "      <td>2001</td>\n",
       "      <td>554.8927</td>\n",
       "      <td>Asia</td>\n",
       "    </tr>\n",
       "    <tr>\n",
       "      <th>91</th>\n",
       "      <td>Afghanistan</td>\n",
       "      <td>6974</td>\n",
       "      <td>Tree-covered areas</td>\n",
       "      <td>2002</td>\n",
       "      <td>2002</td>\n",
       "      <td>562.0837</td>\n",
       "      <td>Asia</td>\n",
       "    </tr>\n",
       "    <tr>\n",
       "      <th>92</th>\n",
       "      <td>Afghanistan</td>\n",
       "      <td>6974</td>\n",
       "      <td>Tree-covered areas</td>\n",
       "      <td>2003</td>\n",
       "      <td>2003</td>\n",
       "      <td>560.0445</td>\n",
       "      <td>Asia</td>\n",
       "    </tr>\n",
       "    <tr>\n",
       "      <th>93</th>\n",
       "      <td>Afghanistan</td>\n",
       "      <td>6974</td>\n",
       "      <td>Tree-covered areas</td>\n",
       "      <td>2004</td>\n",
       "      <td>2004</td>\n",
       "      <td>559.8942</td>\n",
       "      <td>Asia</td>\n",
       "    </tr>\n",
       "    <tr>\n",
       "      <th>94</th>\n",
       "      <td>Afghanistan</td>\n",
       "      <td>6974</td>\n",
       "      <td>Tree-covered areas</td>\n",
       "      <td>2005</td>\n",
       "      <td>2005</td>\n",
       "      <td>562.5345</td>\n",
       "      <td>Asia</td>\n",
       "    </tr>\n",
       "  </tbody>\n",
       "</table>\n",
       "</div>"
      ],
      "text/plain": [
       "           Area  Item Code                Item  Year Code  Year     Value  \\\n",
       "90  Afghanistan       6974  Tree-covered areas       2001  2001  554.8927   \n",
       "91  Afghanistan       6974  Tree-covered areas       2002  2002  562.0837   \n",
       "92  Afghanistan       6974  Tree-covered areas       2003  2003  560.0445   \n",
       "93  Afghanistan       6974  Tree-covered areas       2004  2004  559.8942   \n",
       "94  Afghanistan       6974  Tree-covered areas       2005  2005  562.5345   \n",
       "\n",
       "   continent  \n",
       "90      Asia  \n",
       "91      Asia  \n",
       "92      Asia  \n",
       "93      Asia  \n",
       "94      Asia  "
      ]
     },
     "execution_count": 34,
     "metadata": {},
     "output_type": "execute_result"
    }
   ],
   "source": [
    "Tree.head()"
   ]
  },
  {
   "cell_type": "code",
   "execution_count": 47,
   "metadata": {},
   "outputs": [],
   "source": [
    "s=Tree.groupby([\"Area\"]).sum().sort_values(by=\"Value\", ascending=False).head(30)\n"
   ]
  },
  {
   "cell_type": "code",
   "execution_count": 46,
   "metadata": {},
   "outputs": [
    {
     "data": {
      "text/plain": [
       "(array([ 0,  1,  2,  3,  4,  5,  6,  7,  8,  9, 10, 11, 12, 13, 14, 15, 16,\n",
       "        17, 18, 19, 20, 21, 22, 23, 24, 25, 26, 27, 28, 29]),\n",
       " [Text(0, 0, 'Russian Federation'),\n",
       "  Text(1, 0, 'Brazil'),\n",
       "  Text(2, 0, 'Canada'),\n",
       "  Text(3, 0, 'United States of America'),\n",
       "  Text(4, 0, 'China'),\n",
       "  Text(5, 0, 'China, mainland'),\n",
       "  Text(6, 0, 'Democratic Republic of the Congo'),\n",
       "  Text(7, 0, 'Indonesia'),\n",
       "  Text(8, 0, 'Colombia'),\n",
       "  Text(9, 0, 'Australia'),\n",
       "  Text(10, 0, 'Mexico'),\n",
       "  Text(11, 0, 'Peru'),\n",
       "  Text(12, 0, 'Angola'),\n",
       "  Text(13, 0, 'Bolivia (Plurinational State of)'),\n",
       "  Text(14, 0, 'Venezuela (Bolivarian Republic of)'),\n",
       "  Text(15, 0, 'Argentina'),\n",
       "  Text(16, 0, 'Mozambique'),\n",
       "  Text(17, 0, 'Central African Republic'),\n",
       "  Text(18, 0, 'Zambia'),\n",
       "  Text(19, 0, 'India'),\n",
       "  Text(20, 0, 'Myanmar'),\n",
       "  Text(21, 0, 'United Republic of Tanzania'),\n",
       "  Text(22, 0, 'Papua New Guinea'),\n",
       "  Text(23, 0, 'Cameroon'),\n",
       "  Text(24, 0, 'Sweden'),\n",
       "  Text(25, 0, 'Paraguay'),\n",
       "  Text(26, 0, 'Congo'),\n",
       "  Text(27, 0, 'Malaysia'),\n",
       "  Text(28, 0, 'Finland'),\n",
       "  Text(29, 0, \"Côte d'Ivoire\")])"
      ]
     },
     "execution_count": 46,
     "metadata": {},
     "output_type": "execute_result"
    },
    {
     "data": {
      "image/png": "[encoded data removed]",
      "text/plain": [
       "<Figure size 750x450 with 1 Axes>"
      ]
     },
     "metadata": {
      "needs_background": "light"
     },
     "output_type": "display_data"
    }
   ],
   "source": [
    "plt.figure(figsize=(5,3), dpi=150, linewidth=2)\n",
    "pl=sns.barplot(x=s.index,y='Value',data=s).set(title='Top 30 Countries with maximum Tree covered Area')\n",
    "plt.xticks(rotation=90)"
   ]
  },
  {
   "cell_type": "markdown",
   "metadata": {},
   "source": [
    "## Top 5 countries in world with snow and glaciers"
   ]
  },
  {
   "cell_type": "code",
   "execution_count": 50,
   "metadata": {},
   "outputs": [
    {
     "data": {
      "text/plain": [
       "(array([0, 1, 2, 3, 4]),\n",
       " [Text(0, 0, 'Antarctica'),\n",
       "  Text(1, 0, 'Greenland'),\n",
       "  Text(2, 0, 'Canada'),\n",
       "  Text(3, 0, 'Russian Federation'),\n",
       "  Text(4, 0, 'United States of America')])"
      ]
     },
     "execution_count": 50,
     "metadata": {},
     "output_type": "execute_result"
    },
    {
     "data": {
      "image/png": "[encoded data removed]",
      "text/plain": [
       "<Figure size 750x450 with 1 Axes>"
      ]
     },
     "metadata": {
      "needs_background": "light"
     },
     "output_type": "display_data"
    }
   ],
   "source": [
    "s=snow.groupby([\"Area\"]).sum().sort_values(by=\"Value\", ascending=False).head(5)\n",
    "plt.figure(figsize=(5,3), dpi=150, linewidth=2)\n",
    "pl=sns.barplot(x=s.index,y='Value',data=s).set(title='Top 10 Countries in World with maximum snow and glaciers')\n",
    "plt.xticks(rotation=90)"
   ]
  },
  {
   "cell_type": "markdown",
   "metadata": {},
   "source": []
  },
  {
   "cell_type": "code",
   "execution_count": null,
   "metadata": {},
   "outputs": [],
   "source": []
  }
 ],
 "metadata": {
  "kernelspec": {
   "display_name": "Python 3.10.2 64-bit",
   "language": "python",
   "name": "python3"
  },
  "language_info": {
   "codemirror_mode": {
    "name": "ipython",
    "version": 3
   },
   "file_extension": ".py",
   "mimetype": "text/x-python",
   "name": "python",
   "nbconvert_exporter": "python",
   "pygments_lexer": "ipython3",
   "version": "3.10.2"
  },
  "orig_nbformat": 4,
  "vscode": {
   "interpreter": {
    "hash": "54b8556d8afd005c96b76b4fc1faf91b345132427bb65d4edc61b80c9decdcbd"
   }
  }
 },
 "nbformat": 4,
 "nbformat_minor": 2
}
